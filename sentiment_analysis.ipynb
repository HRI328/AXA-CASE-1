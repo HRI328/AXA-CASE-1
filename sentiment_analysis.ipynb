{
  "nbformat": 4,
  "nbformat_minor": 0,
  "metadata": {
    "colab": {
      "provenance": [],
      "authorship_tag": "ABX9TyNAwl+5IVZTArrZV41udNi5",
      "include_colab_link": true
    },
    "kernelspec": {
      "name": "python3",
      "display_name": "Python 3"
    },
    "language_info": {
      "name": "python"
    }
  },
  "cells": [
    {
      "cell_type": "markdown",
      "metadata": {
        "id": "view-in-github",
        "colab_type": "text"
      },
      "source": [
        "<a href=\"https://colab.research.google.com/github/HRI328/AXA-CASE-1/blob/main/sentiment_analysis.ipynb\" target=\"_parent\"><img src=\"https://colab.research.google.com/assets/colab-badge.svg\" alt=\"Open In Colab\"/></a>"
      ]
    },
    {
      "cell_type": "markdown",
      "source": [
        "# **Import Library**"
      ],
      "metadata": {
        "id": "Anc1nwSPu8gn"
      }
    },
    {
      "cell_type": "code",
      "source": [
        "import matplotlib.pyplot as plt\n",
        "import re\n",
        "import string\n",
        "import tensorflow as tf\n",
        "\n",
        "from tensorflow.keras import layers\n",
        "from tensorflow.keras.layers import Embedding\n",
        "\n",
        "import pandas as pd\n",
        "from sklearn.cluster import KMeans\n",
        "from sklearn.metrics import silhouette_score, calinski_harabasz_score, davies_bouldin_score\n",
        "\n",
        "import math\n",
        "\n",
        "from zipfile import ZipFile\n",
        "from keybert import KeyBERT\n",
        "from sentence_transformers import SentenceTransformer\n",
        "\n"
      ],
      "metadata": {
        "id": "HQelULY1vPC0"
      },
      "execution_count": 305,
      "outputs": []
    },
    {
      "cell_type": "markdown",
      "source": [
        "# **Prepare Data**\n"
      ],
      "metadata": {
        "id": "Tly670OPrHpw"
      }
    },
    {
      "cell_type": "markdown",
      "source": [
        "### Unzip Uploaded File\n",
        "Transcript_v3.zip file is ready uploaded manually to Google Colab"
      ],
      "metadata": {
        "id": "8hGuV-Re6Qpl"
      }
    },
    {
      "cell_type": "code",
      "source": [
        "file_format = \"zip\"\n",
        "file_name = \"transcripts_v3\"\n",
        "\n",
        "file_full_name = file_name + \".\" + \"zip\"\n",
        "print(file_full_name)\n",
        "\n",
        "with ZipFile(file_full_name, 'r') as zip:\n",
        "    zip.printdir()\n",
        "    print('Extracting all the files now...')\n",
        "    for file in zip.namelist():\n",
        "      zip.extractall()\n",
        "    print('Done')"
      ],
      "metadata": {
        "colab": {
          "base_uri": "https://localhost:8080/"
        },
        "id": "LjOIVTb-xR-e",
        "outputId": "3bd358ba-69ac-4d0e-b097-cec09f7f8343"
      },
      "execution_count": 286,
      "outputs": [
        {
          "output_type": "stream",
          "name": "stdout",
          "text": [
            "transcripts_v3.zip\n",
            "File Name                                             Modified             Size\n",
            "manifest.mf                                    2024-10-11 07:08:44          101\n",
            "transcripts_v3/                                2024-10-11 07:08:44           98\n",
            "transcripts_v3/transcript_0.txt                2024-10-11 07:08:44         2298\n",
            "transcripts_v3/transcript_1.txt                2024-10-11 07:08:44         1915\n",
            "transcripts_v3/transcript_2.txt                2024-10-11 07:08:44         2021\n",
            "transcripts_v3/transcript_3.txt                2024-10-11 07:08:44         2572\n",
            "transcripts_v3/transcript_4.txt                2024-10-11 07:08:44         1537\n",
            "transcripts_v3/transcript_5.txt                2024-10-11 07:08:44         2425\n",
            "transcripts_v3/transcript_6.txt                2024-10-11 07:08:44         2209\n",
            "transcripts_v3/transcript_7.txt                2024-10-11 07:08:44         2062\n",
            "transcripts_v3/transcript_8.txt                2024-10-11 07:08:44         2670\n",
            "transcripts_v3/transcript_9.txt                2024-10-11 07:08:44         1989\n",
            "transcripts_v3/transcript_10.txt               2024-10-11 07:08:44         2297\n",
            "transcripts_v3/transcript_11.txt               2024-10-11 07:08:44         1992\n",
            "transcripts_v3/transcript_12.txt               2024-10-11 07:08:44         1455\n",
            "transcripts_v3/transcript_13.txt               2024-10-11 07:08:44         1882\n",
            "transcripts_v3/transcript_14.txt               2024-10-11 07:08:44         2218\n",
            "transcripts_v3/transcript_15.txt               2024-10-11 07:08:44         2178\n",
            "transcripts_v3/transcript_16.txt               2024-10-11 07:08:44         1492\n",
            "transcripts_v3/transcript_17.txt               2024-10-11 07:08:44         1963\n",
            "transcripts_v3/transcript_18.txt               2024-10-11 07:08:44         1551\n",
            "transcripts_v3/transcript_19.txt               2024-10-11 07:08:44         2582\n",
            "transcripts_v3/transcript_20.txt               2024-10-11 07:08:44         1949\n",
            "transcripts_v3/transcript_21.txt               2024-10-11 07:08:44         2650\n",
            "transcripts_v3/transcript_22.txt               2024-10-11 07:08:44         2068\n",
            "transcripts_v3/transcript_23.txt               2024-10-11 07:08:44         1732\n",
            "transcripts_v3/transcript_24.txt               2024-10-11 07:08:44         1781\n",
            "transcripts_v3/transcript_25.txt               2024-10-11 07:08:44         2266\n",
            "transcripts_v3/transcript_26.txt               2024-10-11 07:08:44         1792\n",
            "transcripts_v3/transcript_27.txt               2024-10-11 07:08:44         2517\n",
            "transcripts_v3/transcript_28.txt               2024-10-11 07:08:44         1869\n",
            "transcripts_v3/transcript_29.txt               2024-10-11 07:08:44         2260\n",
            "transcripts_v3/transcript_30.txt               2024-10-11 07:08:44         2351\n",
            "transcripts_v3/transcript_31.txt               2024-10-11 07:08:44         2472\n",
            "transcripts_v3/transcript_32.txt               2024-10-11 07:08:44         2141\n",
            "transcripts_v3/transcript_33.txt               2024-10-11 07:08:44         1812\n",
            "transcripts_v3/transcript_34.txt               2024-10-11 07:08:44         2044\n",
            "transcripts_v3/transcript_35.txt               2024-10-11 07:08:44         2659\n",
            "transcripts_v3/transcript_36.txt               2024-10-11 07:08:44         2321\n",
            "transcripts_v3/transcript_37.txt               2024-10-11 07:08:44         2213\n",
            "transcripts_v3/transcript_38.txt               2024-10-11 07:08:44         2341\n",
            "transcripts_v3/transcript_39.txt               2024-10-11 07:08:44         1896\n",
            "transcripts_v3/transcript_40.txt               2024-10-11 07:08:44         1783\n",
            "transcripts_v3/transcript_41.txt               2024-10-11 07:08:44         2025\n",
            "transcripts_v3/transcript_42.txt               2024-10-11 07:08:44         2659\n",
            "transcripts_v3/transcript_43.txt               2024-10-11 07:08:44         1625\n",
            "transcripts_v3/transcript_44.txt               2024-10-11 07:08:44         2104\n",
            "transcripts_v3/transcript_45.txt               2024-10-11 07:08:44         2586\n",
            "transcripts_v3/transcript_46.txt               2024-10-11 07:08:44         1967\n",
            "transcripts_v3/transcript_47.txt               2024-10-11 07:08:44         2111\n",
            "transcripts_v3/transcript_48.txt               2024-10-11 07:08:44         2580\n",
            "transcripts_v3/transcript_49.txt               2024-10-11 07:08:44         2604\n",
            "transcripts_v3/transcript_50.txt               2024-10-11 07:08:44         2114\n",
            "transcripts_v3/transcript_51.txt               2024-10-11 07:08:44         2186\n",
            "transcripts_v3/transcript_52.txt               2024-10-11 07:08:44         1533\n",
            "transcripts_v3/transcript_53.txt               2024-10-11 07:08:44         1732\n",
            "transcripts_v3/transcript_54.txt               2024-10-11 07:08:44         1666\n",
            "transcripts_v3/transcript_55.txt               2024-10-11 07:08:44         2034\n",
            "transcripts_v3/transcript_56.txt               2024-10-11 07:08:44         3400\n",
            "transcripts_v3/transcript_57.txt               2024-10-11 07:08:44         1980\n",
            "transcripts_v3/transcript_58.txt               2024-10-11 07:08:44         2008\n",
            "transcripts_v3/transcript_59.txt               2024-10-11 07:08:46         2154\n",
            "transcripts_v3/transcript_60.txt               2024-10-11 07:08:46         2071\n",
            "transcripts_v3/transcript_61.txt               2024-10-11 07:08:46         2366\n",
            "transcripts_v3/transcript_62.txt               2024-10-11 07:08:46         1934\n",
            "transcripts_v3/transcript_63.txt               2024-10-11 07:08:46         2655\n",
            "transcripts_v3/transcript_64.txt               2024-10-11 07:08:46         2958\n",
            "transcripts_v3/transcript_65.txt               2024-10-11 07:08:46         2503\n",
            "transcripts_v3/transcript_66.txt               2024-10-11 07:08:46         2536\n",
            "transcripts_v3/transcript_67.txt               2024-10-11 07:08:46         2165\n",
            "transcripts_v3/transcript_68.txt               2024-10-11 07:08:46         1751\n",
            "transcripts_v3/transcript_69.txt               2024-10-11 07:08:46         2420\n",
            "transcripts_v3/transcript_70.txt               2024-10-11 07:08:46         1996\n",
            "transcripts_v3/transcript_71.txt               2024-10-11 07:08:46         1929\n",
            "transcripts_v3/transcript_72.txt               2024-10-11 07:08:46         1537\n",
            "transcripts_v3/transcript_73.txt               2024-10-11 07:08:46         2011\n",
            "transcripts_v3/transcript_74.txt               2024-10-11 07:08:46         1975\n",
            "transcripts_v3/transcript_75.txt               2024-10-11 07:08:46         3153\n",
            "transcripts_v3/transcript_76.txt               2024-10-11 07:08:46         1988\n",
            "transcripts_v3/transcript_77.txt               2024-10-11 07:08:46         2181\n",
            "transcripts_v3/transcript_78.txt               2024-10-11 07:08:46         1491\n",
            "transcripts_v3/transcript_79.txt               2024-10-11 07:08:46         2199\n",
            "transcripts_v3/transcript_80.txt               2024-10-11 07:08:46         2486\n",
            "transcripts_v3/transcript_81.txt               2024-10-11 07:08:46         1736\n",
            "transcripts_v3/transcript_82.txt               2024-10-11 07:08:46         2436\n",
            "transcripts_v3/transcript_83.txt               2024-10-11 07:08:46         1819\n",
            "transcripts_v3/transcript_84.txt               2024-10-11 07:08:46         2731\n",
            "transcripts_v3/transcript_85.txt               2024-10-11 07:08:46         1996\n",
            "transcripts_v3/transcript_86.txt               2024-10-11 07:08:46         1816\n",
            "transcripts_v3/transcript_87.txt               2024-10-11 07:08:46         1699\n",
            "transcripts_v3/transcript_88.txt               2024-10-11 07:08:46         2199\n",
            "transcripts_v3/transcript_89.txt               2024-10-11 07:08:46         2469\n",
            "transcripts_v3/transcript_90.txt               2024-10-11 07:08:46         1960\n",
            "transcripts_v3/transcript_91.txt               2024-10-11 07:08:46         1675\n",
            "transcripts_v3/transcript_92.txt               2024-10-11 07:08:46         1760\n",
            "transcripts_v3/transcript_93.txt               2024-10-11 07:08:46         1748\n",
            "transcripts_v3/transcript_94.txt               2024-10-11 07:08:46         1830\n",
            "transcripts_v3/transcript_95.txt               2024-10-11 07:08:46         2247\n",
            "transcripts_v3/transcript_96.txt               2024-10-11 07:08:46         1829\n",
            "transcripts_v3/transcript_97.txt               2024-10-11 07:08:46         1729\n",
            "transcripts_v3/transcript_98.txt               2024-10-11 07:08:46         2004\n",
            "transcripts_v3/transcript_99.txt               2024-10-11 07:08:46         1569\n",
            "transcripts_v3/transcript_100.txt              2024-10-11 07:08:46         2234\n",
            "transcripts_v3/transcript_101.txt              2024-10-11 07:08:46         1623\n",
            "transcripts_v3/transcript_102.txt              2024-10-11 07:08:46         2444\n",
            "transcripts_v3/transcript_103.txt              2024-10-11 07:08:46         2030\n",
            "transcripts_v3/transcript_104.txt              2024-10-11 07:08:46         2637\n",
            "transcripts_v3/transcript_105.txt              2024-10-11 07:08:46         2131\n",
            "transcripts_v3/transcript_106.txt              2024-10-11 07:08:46         1864\n",
            "transcripts_v3/transcript_107.txt              2024-10-11 07:08:46         1585\n",
            "transcripts_v3/transcript_108.txt              2024-10-11 07:08:46         2478\n",
            "transcripts_v3/transcript_109.txt              2024-10-11 07:08:46         2008\n",
            "transcripts_v3/transcript_110.txt              2024-10-11 07:08:46         2687\n",
            "transcripts_v3/transcript_111.txt              2024-10-11 07:08:46         2034\n",
            "transcripts_v3/transcript_112.txt              2024-10-11 07:08:46         2324\n",
            "transcripts_v3/transcript_113.txt              2024-10-11 07:08:46         2441\n",
            "transcripts_v3/transcript_114.txt              2024-10-11 07:08:46         1541\n",
            "transcripts_v3/transcript_115.txt              2024-10-11 07:08:46         2025\n",
            "transcripts_v3/transcript_116.txt              2024-10-11 07:08:46         1609\n",
            "transcripts_v3/transcript_117.txt              2024-10-11 07:08:46         2064\n",
            "transcripts_v3/transcript_118.txt              2024-10-11 07:08:46         1590\n",
            "transcripts_v3/transcript_119.txt              2024-10-11 07:08:46         2608\n",
            "transcripts_v3/transcript_120.txt              2024-10-11 07:08:46         1988\n",
            "transcripts_v3/transcript_121.txt              2024-10-11 07:08:46         2265\n",
            "transcripts_v3/transcript_122.txt              2024-10-11 07:08:46         1932\n",
            "transcripts_v3/transcript_123.txt              2024-10-11 07:08:46         2427\n",
            "transcripts_v3/transcript_124.txt              2024-10-11 07:08:46         2580\n",
            "transcripts_v3/transcript_125.txt              2024-10-11 07:08:46         2303\n",
            "transcripts_v3/transcript_126.txt              2024-10-11 07:08:46         1712\n",
            "transcripts_v3/transcript_127.txt              2024-10-11 07:08:46         2200\n",
            "transcripts_v3/transcript_128.txt              2024-10-11 07:08:46         1509\n",
            "transcripts_v3/transcript_129.txt              2024-10-11 07:08:46         2226\n",
            "transcripts_v3/transcript_130.txt              2024-10-11 07:08:46         1807\n",
            "transcripts_v3/transcript_131.txt              2024-10-11 07:08:46         2025\n",
            "transcripts_v3/transcript_132.txt              2024-10-11 07:08:46         2679\n",
            "transcripts_v3/transcript_133.txt              2024-10-11 07:08:46         2094\n",
            "transcripts_v3/transcript_134.txt              2024-10-11 07:08:46         1491\n",
            "transcripts_v3/transcript_135.txt              2024-10-11 07:08:46         1787\n",
            "transcripts_v3/transcript_136.txt              2024-10-11 07:08:46         1736\n",
            "transcripts_v3/transcript_137.txt              2024-10-11 07:08:46         1752\n",
            "transcripts_v3/transcript_138.txt              2024-10-11 07:08:46         2102\n",
            "transcripts_v3/transcript_139.txt              2024-10-11 07:08:46         2004\n",
            "transcripts_v3/transcript_140.txt              2024-10-11 07:08:46         1528\n",
            "transcripts_v3/transcript_141.txt              2024-10-11 07:08:46         2053\n",
            "transcripts_v3/transcript_142.txt              2024-10-11 07:08:46         2069\n",
            "transcripts_v3/transcript_143.txt              2024-10-11 07:08:46         1792\n",
            "transcripts_v3/transcript_144.txt              2024-10-11 07:08:46         2339\n",
            "transcripts_v3/transcript_145.txt              2024-10-11 07:08:46         1677\n",
            "transcripts_v3/transcript_146.txt              2024-10-11 07:08:46         1818\n",
            "transcripts_v3/transcript_147.txt              2024-10-11 07:08:46         1955\n",
            "transcripts_v3/transcript_148.txt              2024-10-11 07:08:46         1972\n",
            "transcripts_v3/transcript_149.txt              2024-10-11 07:08:46         2294\n",
            "transcripts_v3/transcript_150.txt              2024-10-11 07:08:46         2231\n",
            "transcripts_v3/transcript_151.txt              2024-10-11 07:08:46         2503\n",
            "transcripts_v3/transcript_152.txt              2024-10-11 07:08:46         2005\n",
            "transcripts_v3/transcript_153.txt              2024-10-11 07:08:46         1912\n",
            "transcripts_v3/transcript_154.txt              2024-10-11 07:08:46         2009\n",
            "transcripts_v3/transcript_155.txt              2024-10-11 07:08:46         2026\n",
            "transcripts_v3/transcript_156.txt              2024-10-11 07:08:46         1896\n",
            "transcripts_v3/transcript_157.txt              2024-10-11 07:08:46         3091\n",
            "transcripts_v3/transcript_158.txt              2024-10-11 07:08:46         2194\n",
            "transcripts_v3/transcript_159.txt              2024-10-11 07:08:46         2427\n",
            "transcripts_v3/transcript_160.txt              2024-10-11 07:08:46         2148\n",
            "transcripts_v3/transcript_161.txt              2024-10-11 07:08:46         2121\n",
            "transcripts_v3/transcript_162.txt              2024-10-11 07:08:46         1370\n",
            "transcripts_v3/transcript_163.txt              2024-10-11 07:08:46         1789\n",
            "transcripts_v3/transcript_164.txt              2024-10-11 07:08:46         1543\n",
            "transcripts_v3/transcript_165.txt              2024-10-11 07:08:46         2140\n",
            "transcripts_v3/transcript_166.txt              2024-10-11 07:08:46         1908\n",
            "transcripts_v3/transcript_167.txt              2024-10-11 07:08:46         2601\n",
            "transcripts_v3/transcript_168.txt              2024-10-11 07:08:46         1696\n",
            "transcripts_v3/transcript_169.txt              2024-10-11 07:08:46         1799\n",
            "transcripts_v3/transcript_170.txt              2024-10-11 07:08:46         2233\n",
            "transcripts_v3/transcript_171.txt              2024-10-11 07:08:46         1707\n",
            "transcripts_v3/transcript_172.txt              2024-10-11 07:08:46         2463\n",
            "transcripts_v3/transcript_173.txt              2024-10-11 07:08:46         2112\n",
            "transcripts_v3/transcript_174.txt              2024-10-11 07:08:46         1877\n",
            "transcripts_v3/transcript_175.txt              2024-10-11 07:08:46         2303\n",
            "transcripts_v3/transcript_176.txt              2024-10-11 07:08:46         1867\n",
            "transcripts_v3/transcript_177.txt              2024-10-11 07:08:46         2030\n",
            "transcripts_v3/transcript_178.txt              2024-10-11 07:08:46         1854\n",
            "transcripts_v3/transcript_179.txt              2024-10-11 07:08:46         1821\n",
            "transcripts_v3/transcript_180.txt              2024-10-11 07:08:46         2232\n",
            "transcripts_v3/transcript_181.txt              2024-10-11 07:08:46         2467\n",
            "transcripts_v3/transcript_182.txt              2024-10-11 07:08:46         2290\n",
            "transcripts_v3/transcript_183.txt              2024-10-11 07:08:46         2226\n",
            "transcripts_v3/transcript_184.txt              2024-10-11 07:08:46         2902\n",
            "transcripts_v3/transcript_185.txt              2024-10-11 07:08:46         2170\n",
            "transcripts_v3/transcript_186.txt              2024-10-11 07:08:46         1844\n",
            "transcripts_v3/transcript_187.txt              2024-10-11 07:08:46         2139\n",
            "transcripts_v3/transcript_188.txt              2024-10-11 07:08:46         1794\n",
            "transcripts_v3/transcript_189.txt              2024-10-11 07:08:46         2170\n",
            "transcripts_v3/transcript_190.txt              2024-10-11 07:08:46         2160\n",
            "transcripts_v3/transcript_191.txt              2024-10-11 07:08:46         1620\n",
            "transcripts_v3/transcript_192.txt              2024-10-11 07:08:46         1998\n",
            "transcripts_v3/transcript_193.txt              2024-10-11 07:08:46         1836\n",
            "transcripts_v3/transcript_194.txt              2024-10-11 07:08:46         2032\n",
            "transcripts_v3/transcript_195.txt              2024-10-11 07:08:46         2084\n",
            "transcripts_v3/transcript_196.txt              2024-10-11 07:08:46         2530\n",
            "transcripts_v3/transcript_197.txt              2024-10-11 07:08:46         2353\n",
            "transcripts_v3/transcript_198.txt              2024-10-11 07:08:46         1725\n",
            "transcripts_v3/transcript_199.txt              2024-10-11 07:08:46         1955\n",
            "Extracting all the files now...\n",
            "Done\n"
          ]
        }
      ]
    },
    {
      "cell_type": "markdown",
      "source": [
        "### Input Data to Google Colab and Overview\n",
        "\n",
        "The transcripts_v3.zip data file has been unzipped into transcripts_v3 folder. Here the unzipped text data is inputted into Googl Colab to have a look.\n",
        "The result shows this data file has total 200 documents without label. The diolage between member and agent is sparated by \"\\n\"**bold text**."
      ],
      "metadata": {
        "id": "cXeFvk7TtH5f"
      }
    },
    {
      "cell_type": "code",
      "source": [
        "text_all = []\n",
        "for i in range(200):\n",
        "\n",
        "  # Keep in mind to change the following according to above unzip file path\n",
        "  unzipped_file_name = \"transcripts_v3/transcript_\" + str(i) + \".txt\"\n",
        "\n",
        "  # read all files in unzipped folder and attached to list\n",
        "  file = open(unzipped_file_name, \"r\")\n",
        "  test_1 = file.read()\n",
        "  text_all.append(test_1)\n",
        "  file.close\n",
        "\n",
        "n_documents = len(text_all)\n",
        "print(f\"Number of documents is : {n_documents}\\n\")\n",
        "\n",
        "print(f\"Print any one of the text message to see the structure \\n\")\n",
        "text_all[4]\n"
      ],
      "metadata": {
        "colab": {
          "base_uri": "https://localhost:8080/",
          "height": 231
        },
        "id": "TWvN7s5R3k1m",
        "outputId": "8255b2d1-6e47-4d4e-e416-fa966c729842"
      },
      "execution_count": 291,
      "outputs": [
        {
          "output_type": "stream",
          "name": "stdout",
          "text": [
            "Number of documents is : 200\n",
            "\n",
            "Print any one of the text message to see the structure \n",
            "\n"
          ]
        },
        {
          "output_type": "execute_result",
          "data": {
            "text/plain": [
              "\"Member: Hi, I'd like to schedule an appointment with a specialist. My member ID is MEM123456.\\n\\nCustomer Support: Thank you for calling us, MEM123456. Can you please tell me what type of specialist you're looking for and what date and time you'd prefer for the appointment?\\n\\nMember: I'm looking for a dermatologist and I was thinking maybe next Wednesday or Thursday. Do you have any availability?\\n\\nCustomer Support: Let me check our schedule. (pause) Okay, I've checked and we have a few options available for next Wednesday and Thursday. We have Dr. Smith available on Wednesday at 2 PM and Dr. Johnson available on Thursday at 10 AM. Both are highly rated specialists in dermatology. Which one would you prefer?\\n\\nMember: That sounds great. Can you tell me a bit more about Dr. Smith and Dr. Johnson? What are their specialties within dermatology?\\n\\nCustomer Support: Dr. Smith specializes in skin cancer treatment and cosmetic dermatology, while Dr. Johnson focuses on acne treatment and skin allergies. Both are highly experienced and well-reviewed by our members.\\n\\nMember: Okay, I think I'd like to schedule an appointment with Dr. Johnson on Thursday at 10 AM.\\n\\nCustomer Support: Great choice! I've scheduled the appointment for you. You'll receive a confirmation email with all the details. Is there anything else I can assist you with today?\\n\\nMember: No, that's all. Thank you for your help!\\n\\nCustomer Support: You're welcome, MEM123456. Have a great day and we'll see you on Thursday!\\n\\nMember: Thanks, bye.\\n\\nCustomer Support: Bye.\""
            ],
            "application/vnd.google.colaboratory.intrinsic+json": {
              "type": "string"
            }
          },
          "metadata": {},
          "execution_count": 291
        }
      ]
    },
    {
      "cell_type": "markdown",
      "source": [
        "### Extract Customer Information\n",
        "\n",
        "The purpose of this analysis is to identify if the issue of customer is sorted out or needs to follow up action. This means the result is decided by customer. Therefore here only customer, i.e., member's talk is extracted only using the information from above message reading."
      ],
      "metadata": {
        "id": "l-sCQoR3ouOl"
      }
    },
    {
      "cell_type": "code",
      "source": [
        "# Extract customer side information\n",
        "customer_list0 = []\n",
        "for i in range(n_documents):\n",
        "  customer_1 = list(filter(lambda x: 'member' in x.lower(), text_all[i].split('\\n')))\n",
        "  customer_list0.append(' '.join(customer_1))\n",
        "\n",
        "# Remove string \"Member:\"\n",
        "customer_list = []\n",
        "for i in range(n_documents):\n",
        "  customer_list.append(customer_list0[i].replace('Member:', ''))\n",
        "\n",
        "print(f\"Number of customer message is : {len(customer_list)}\\n\\n\")\n",
        "\n",
        "print(f\"Print any one of the customer message to see the structure:\")\n",
        "print(\"customer_list should have the talking from member only.\\n\\n\")\n",
        "customer_list[20]"
      ],
      "metadata": {
        "id": "1fRfFciUPPIk",
        "colab": {
          "base_uri": "https://localhost:8080/",
          "height": 264
        },
        "outputId": "21af18cc-b64f-46e3-b56b-25a212cbf632"
      },
      "execution_count": 292,
      "outputs": [
        {
          "output_type": "stream",
          "name": "stdout",
          "text": [
            "Number of customer message is : 200\n",
            "\n",
            "\n",
            "Print any one of the customer message to see the structure:\n",
            "customer_list should have the talking from member only.\n",
            "\n",
            "\n"
          ]
        },
        {
          "output_type": "execute_result",
          "data": {
            "text/plain": [
              "' Hi, I\\'m having trouble logging in to my online service account. I\\'m trying to register but it\\'s not letting me. My member ID is MEM456278.  It just says \"Invalid username or password\" but I\\'m pretty sure I\\'m entering the correct information.  Yeah, that would be great. I\\'ve tried resetting it before, but maybe I did something wrong. Technical Support: Sure thing. To reset your password, go to the login page and click on \"Forgot Password.\" Enter your member ID, which is MEM456278, and follow the prompts to create a new password. Make sure to use a strong password that includes uppercase and lowercase letters, numbers, and special characters.  Okay, I\\'ve done that. But now it\\'s saying my account is locked.  Yeah, my date of birth is March 12, 1990, and the last four digits of my payment method are 1234.  Awesome, thank you so much! I\\'m able to log in now.  No, that\\'s all. Thanks again for your help.'"
            ],
            "application/vnd.google.colaboratory.intrinsic+json": {
              "type": "string"
            }
          },
          "metadata": {},
          "execution_count": 292
        }
      ]
    },
    {
      "cell_type": "markdown",
      "source": [
        "### Standardize Text Message\n",
        "Convert all character into lower case and replace all special characters by space, replace multiple space by single space."
      ],
      "metadata": {
        "id": "UzalTB_wPVLe"
      }
    },
    {
      "cell_type": "code",
      "source": [
        "def standard_text(inputText):\n",
        "  # This function is used to standardize the text massage\n",
        "  # inputText : test string\n",
        "  # return : tensor\n",
        "  inputText_low = tf.strings.lower(inputText)\n",
        "  inputText_low1 = tf.strings.regex_replace(inputText_low, '[^a-z0-9 ]', ' ')\n",
        "  inputText_low2 = tf.strings.regex_replace(inputText_low1, ' +', ' ')\n",
        "  return tf.strings.regex_replace(inputText_low2, '[%s]' % re.escape(string.punctuation), '')"
      ],
      "metadata": {
        "id": "Sp9pgs7euswy"
      },
      "execution_count": 293,
      "outputs": []
    },
    {
      "cell_type": "code",
      "source": [
        "# Test the standardize text function\n",
        "standard_text(customer_list[2])"
      ],
      "metadata": {
        "id": "FpP2ajLgtSRh",
        "colab": {
          "base_uri": "https://localhost:8080/"
        },
        "outputId": "cc4cf3ad-2a40-4d03-a163-6987577b923b"
      },
      "execution_count": 294,
      "outputs": [
        {
          "output_type": "execute_result",
          "data": {
            "text/plain": [
              "<tf.Tensor: shape=(), dtype=string, numpy=b' hi i m calling about my recent doctor s visit i was charged a copay of 50 but i thought my policy covered that service with a 20 copay customer support i apologize for the inconvenience mr johnson can you please provide me with your member id so i can look into this further it s mem456789 it was on february 10th and it was a routine physical exam yeah because my policy says that routine physical exams have a 20 copay or sometimes no copay at all okay that sounds good how long will it take to resolve this alright that sounds good can i get a reference number for the case okay got it thank you for your help alright thanks no that s all you too thanks '>"
            ]
          },
          "metadata": {},
          "execution_count": 294
        }
      ]
    },
    {
      "cell_type": "markdown",
      "source": [
        "### Check Number of Unique Words in all customer talking"
      ],
      "metadata": {
        "id": "qcXSR6rqp_rP"
      }
    },
    {
      "cell_type": "code",
      "source": [
        "# convert tensor into list\n",
        "word_list = [standard_text(item).numpy().decode('utf-8') for item in customer_list]\n",
        "\n",
        "# Calculate the number of unique words\n",
        "unique_words_num = len(set(''.join(word_list).split(\" \")))\n",
        "print(f\"Number of unique words in all customer talking is : {unique_words_num}\")\n",
        "\n",
        "# Calculate the length of each documents\n",
        "sentencs_len = []\n",
        "for strValue in word_list:\n",
        "  sentencs_len.append(len(strValue.split(\" \")))\n",
        "\n",
        "# number of words in the longest document\n",
        "word_num_longest_sentencs = max(sentencs_len)\n",
        "print(f\"Number of words in the longest sentence is : {word_num_longest_sentencs}\")\n"
      ],
      "metadata": {
        "colab": {
          "base_uri": "https://localhost:8080/"
        },
        "id": "5yfFextpnwFP",
        "outputId": "dcf1f940-476d-4fff-f285-a0c56a0cdc65"
      },
      "execution_count": 295,
      "outputs": [
        {
          "output_type": "stream",
          "name": "stdout",
          "text": [
            "Number of unique words in all customer talking is : 1022\n",
            "Number of words in the longest sentence is : 235\n"
          ]
        }
      ]
    },
    {
      "cell_type": "markdown",
      "source": [
        "### Mapping Text Features to Integer Sequences"
      ],
      "metadata": {
        "id": "CTbU7DIjGpPU"
      }
    },
    {
      "cell_type": "code",
      "source": [
        "# maximum number of words set\n",
        "max_features = unique_words_num\n",
        "# text sentence could include maximum word\n",
        "sequence_length = word_num_longest_sentencs\n",
        "\n",
        "# Vectorization of text message\n",
        "vectorize_layer = layers.TextVectorization(\n",
        "    standardize=standard_text,\n",
        "    max_tokens=max_features,\n",
        "    pad_to_max_tokens=True,\n",
        "    ngrams=1,\n",
        "    output_mode='int',\n",
        "    output_sequence_length=sequence_length)\n",
        "\n",
        "vectorize_layer.adapt(customer_list)"
      ],
      "metadata": {
        "id": "MyKXMePX4ecW"
      },
      "execution_count": 296,
      "outputs": []
    },
    {
      "cell_type": "code",
      "source": [
        "# Make text vectorization\n",
        "def vectorize_text(text):\n",
        "  text = tf.expand_dims(text, -1)\n",
        "  return vectorize_layer(text)"
      ],
      "metadata": {
        "id": "8GWK7Pmx67FX"
      },
      "execution_count": 297,
      "outputs": []
    },
    {
      "cell_type": "code",
      "source": [
        "# Random vocabulary check\n",
        "print(\"0 to 9 ----->\", vectorize_layer.get_vocabulary()[:10])\n",
        "print(\"20 to 29 ----->\", vectorize_layer.get_vocabulary()[20:30])\n",
        "print(\"300 to 309 ----->\", vectorize_layer.get_vocabulary()[300:310])\n",
        "print(\"1000 to 1009 ----->\", vectorize_layer.get_vocabulary()[1000:1010])\n",
        "print(\"Vaocabulary size : {}\".format(len(vectorize_layer.get_vocabulary())))"
      ],
      "metadata": {
        "colab": {
          "base_uri": "https://localhost:8080/"
        },
        "id": "8pzhpRr57LBX",
        "outputId": "671f4555-763b-4c10-82f1-991776c6b09b"
      },
      "execution_count": 298,
      "outputs": [
        {
          "output_type": "stream",
          "name": "stdout",
          "text": [
            "0 to 9 -----> ['', '[UNK]', 'i', 'my', 'you', 'that', 'to', 'is', 'the', 's']\n",
            "20 to 29 -----> ['can', 'member', 'was', 'id', 'in', 'no', 'hi', 'policy', 'sounds', 'all']\n",
            "300 to 309 -----> ['we', 'update', 'told', 'them', 'ridiculous', 'reprocess', 'plan', 'orthopedic', 'multiple', 'mr']\n",
            "1000 to 1009 -----> ['8', '76700', '73600', '715', '654321', '6', '5555', '500', '5', '4219']\n",
            "Vaocabulary size : 1022\n"
          ]
        }
      ]
    },
    {
      "cell_type": "markdown",
      "source": [
        "### Embedding\n",
        "Reduce high dimension to low dimension"
      ],
      "metadata": {
        "id": "c2ba9-Kn_R34"
      }
    },
    {
      "cell_type": "code",
      "source": [
        "embedding = Embedding(input_dim=max_features, output_dim=16)\n",
        "\n",
        "customer_list_embedding = embedding(vectorize_layer(customer_list))"
      ],
      "metadata": {
        "id": "XOer8vCHD0cQ"
      },
      "execution_count": 299,
      "outputs": []
    },
    {
      "cell_type": "code",
      "source": [
        "# check the shape of the embedding\n",
        "customer_list_embedding.shape"
      ],
      "metadata": {
        "colab": {
          "base_uri": "https://localhost:8080/"
        },
        "id": "ThzPqxll8Y4Z",
        "outputId": "0c8ce9dd-247d-414d-9b28-42d62a8acc99"
      },
      "execution_count": 300,
      "outputs": [
        {
          "output_type": "execute_result",
          "data": {
            "text/plain": [
              "TensorShape([200, 235, 16])"
            ]
          },
          "metadata": {},
          "execution_count": 300
        }
      ]
    },
    {
      "cell_type": "code",
      "source": [
        "# Check embedding\n",
        "customer_list_embedding[0, 0]"
      ],
      "metadata": {
        "colab": {
          "base_uri": "https://localhost:8080/"
        },
        "id": "yAcL_6Dn_egq",
        "outputId": "f6c184c8-a0f5-4ffd-ad55-3feedd7aad28"
      },
      "execution_count": 301,
      "outputs": [
        {
          "output_type": "execute_result",
          "data": {
            "text/plain": [
              "<tf.Tensor: shape=(16,), dtype=float32, numpy=\n",
              "array([ 0.04094848,  0.01001061,  0.02333758, -0.03586971, -0.0082862 ,\n",
              "        0.01364901,  0.01496837, -0.01733262, -0.04305521,  0.02340988,\n",
              "        0.0088978 ,  0.01604669,  0.01433304, -0.01794728,  0.03478947,\n",
              "       -0.04186342], dtype=float32)>"
            ]
          },
          "metadata": {},
          "execution_count": 301
        }
      ]
    },
    {
      "cell_type": "code",
      "source": [
        "# Reshape the data to 2D by averaging the embedding for each document for k-mean\n",
        "customer_list_embedding_2d = tf.reduce_mean(customer_list_embedding, axis=1).numpy()\n",
        "customer_list_embedding_2d.shape"
      ],
      "metadata": {
        "colab": {
          "base_uri": "https://localhost:8080/"
        },
        "id": "2DPW3Y6KX99y",
        "outputId": "3774c29c-2f29-475b-cc4b-a51a6ab31c42"
      },
      "execution_count": 302,
      "outputs": [
        {
          "output_type": "execute_result",
          "data": {
            "text/plain": [
              "(200, 16)"
            ]
          },
          "metadata": {},
          "execution_count": 302
        }
      ]
    },
    {
      "cell_type": "markdown",
      "source": [
        "# Modelling\n",
        "\n",
        "## Using K-mean to Clusterring\n",
        "The text message has not been labelled. So unsupervised machine learning is used. Here k-mean is used.\n",
        "The reason is:\n",
        "     \n",
        "*   Simple: easy to understand and implement.\n",
        "*   Efficient: fast compared to other clustering algorithms.\n",
        "*   Interpretable: easy to understand and can help derive insights.\n",
        "\n",
        "Here the number of clusters is decided by the elbow method although these talking is the diolage between member and agent in medical insurance. Topic is about the issue from member and the result has only two. One is sorted and another one is to need the follow up call. Anyway some sorted issue might still need some follow up action.\n",
        "\n",
        "\n",
        "### Decide Number of Cluster\n",
        "From the elbow graph, It is the best to set the cluster number as 4."
      ],
      "metadata": {
        "id": "1wrvCWDz1-Ut"
      }
    },
    {
      "cell_type": "code",
      "source": [
        "wcss = []\n",
        "for i in range(1, 11):\n",
        "    kmeans = KMeans(n_clusters=i, init='k-means++', max_iter=300, n_init=10, random_state=0)\n",
        "    kmeans.fit(customer_list_embedding_2d)\n",
        "    wcss.append(kmeans.inertia_)\n",
        "\n",
        "plt.plot(range(1, 11), wcss)\n",
        "plt.title('The Elbow Method')\n",
        "plt.xlabel('Number of clusters')\n",
        "plt.ylabel('WCSS')\n",
        "plt.show()"
      ],
      "metadata": {
        "colab": {
          "base_uri": "https://localhost:8080/",
          "height": 472
        },
        "id": "HL9oWu8XjZr1",
        "outputId": "81dae738-79d8-4c9b-db38-46f319517c81"
      },
      "execution_count": 303,
      "outputs": [
        {
          "output_type": "display_data",
          "data": {
            "text/plain": [
              "<Figure size 640x480 with 1 Axes>"
            ],
            "image/png": "[encoded data removed]"
          },
          "metadata": {}
        }
      ]
    },
    {
      "cell_type": "markdown",
      "source": [
        "### Set cluster number as 4 to build the model"
      ],
      "metadata": {
        "id": "ujcLN-YZxg8l"
      }
    },
    {
      "cell_type": "code",
      "source": [
        "# set number of clusters as 3 to build the model\n",
        "kmeans = KMeans(n_clusters=4,\n",
        "                tol=.0001,\n",
        "                max_iter=15,\n",
        "                random_state=0)\n",
        "label = kmeans.fit_predict(customer_list_embedding_2d)\n"
      ],
      "metadata": {
        "id": "_jASh3Me9gda"
      },
      "execution_count": 304,
      "outputs": []
    },
    {
      "cell_type": "markdown",
      "source": [
        "### Model Performance Check\n",
        "silhouette_score is a metric to calculate the goodness_of_fitness of a clustering algorithm, which ranges from -1 to 1. 0 means clusters are overlapping and either data or the number of cluster are incorrect. 1 means cluster is ver dense and nicely separated. Negative value means element is possibly assigned to the wrong class.\n",
        "Here the silhouette_score is 0.327. It is acceptable."
      ],
      "metadata": {
        "id": "vK0lajlCycqw"
      }
    },
    {
      "cell_type": "code",
      "source": [
        "# Check the model performance built by k-mean\n",
        "silhouette_score(customer_list_embedding_2d, label)\n",
        "\n",
        "# The following methods could be used to check model performance as well\n",
        "# calinski_harabasz_score(customer_list_embedding_2d, label)\n",
        "# davies_bouldin_score(customer_list_embedding_2d, label)"
      ],
      "metadata": {
        "colab": {
          "base_uri": "https://localhost:8080/"
        },
        "id": "1qVAbnmhyM2o",
        "outputId": "6dfecef5-52ec-40d3-e0c3-5b61d699b5c1"
      },
      "execution_count": 308,
      "outputs": [
        {
          "output_type": "execute_result",
          "data": {
            "text/plain": [
              "0.3602372"
            ]
          },
          "metadata": {},
          "execution_count": 308
        }
      ]
    },
    {
      "cell_type": "markdown",
      "source": [
        "### Attach Cluster Label to Data"
      ],
      "metadata": {
        "id": "0tSS8_vSwYWf"
      }
    },
    {
      "cell_type": "code",
      "source": [
        "# Convert Text Message into Dataframe and Attaching Label Identified\n",
        "customer_text_df = pd.DataFrame(customer_list, columns=['text'])\n",
        "customer_text_df['label'] = label"
      ],
      "metadata": {
        "id": "HAaleaGq_3LO"
      },
      "execution_count": 309,
      "outputs": []
    },
    {
      "cell_type": "markdown",
      "source": [
        "### Read some text message to identify the physical meaning of the label"
      ],
      "metadata": {
        "id": "zCYP0Zij3tNH"
      }
    },
    {
      "cell_type": "code",
      "source": [
        "# Display text message with label to select the text message to read to define label meaning\n",
        "# customer_text_df.loc[50:70]\n",
        "\n",
        "# The following text have been read and given the label the physical meaning\n",
        "# text_all[5]    # 0 -> find reason need investigation to decide\n",
        "# text_all[8]    # 0 -> find reason need investigation to decide\n",
        "# text_all[66]   # 0 -> find reason need investigation to decide\n",
        "# text_all[1]    # 1 -> resolved after investigation\n",
        "# text_all[16]   # 1 -> resolved after investigation\n",
        "# text_all[52]   # 1 -> resolved after investigation\n",
        "# text_all[3]    # 2 -> not resolved to follow up action to investigation\n",
        "# text_all[42]   # 2 -> not resolved to follow up action to investigation\n",
        "# text_all[56]   # 2 -> not resolved to follow up action to investigation\n",
        "# text_all[4]    # 3 -> resolved\n",
        "# text_all[12]   # 3 -> resolved\n",
        "# text_all[50]   # 3 -> resolved"
      ],
      "metadata": {
        "id": "y4flk9e9CY7y"
      },
      "execution_count": 310,
      "outputs": []
    },
    {
      "cell_type": "code",
      "source": [
        "# Attach label physical meaning to dataframe and display top 5 text message\n",
        "label_dic = {0 : \"Follow up\", 1: \"Resolved\", 2: \"Follow up\", 3: \"Resolved\"}\n",
        "customer_text_df['labelMeaning'] = customer_text_df['label'].map(label_dic)\n",
        "customer_text_df.head()"
      ],
      "metadata": {
        "colab": {
          "base_uri": "https://localhost:8080/",
          "height": 206
        },
        "id": "32P4bTVMixym",
        "outputId": "5ea0b6bc-522c-4f7d-fe61-8304d7a3b89d"
      },
      "execution_count": 311,
      "outputs": [
        {
          "output_type": "execute_result",
          "data": {
            "text/plain": [
              "                                                text  label labelMeaning\n",
              "0   Hi, I'm calling to get a case pre-authorized....      3     Resolved\n",
              "1   Hi, I'm calling about a denied claim I receiv...      1     Resolved\n",
              "2   Hi, I'm calling about my recent doctor's visi...      3     Resolved\n",
              "3   Hi, I'm calling about my recent visit to the ...      2    Follow up\n",
              "4   Hi, I'd like to schedule an appointment with ...      3     Resolved"
            ],
            "text/html": [
              "\n",
              "  <div id=\"df-61e5bfc1-e144-4699-86ed-13f8cb65a9aa\" class=\"colab-df-container\">\n",
              "    <div>\n",
              "<style scoped>\n",
              "    .dataframe tbody tr th:only-of-type {\n",
              "        vertical-align: middle;\n",
              "    }\n",
              "\n",
              "    .dataframe tbody tr th {\n",
              "        vertical-align: top;\n",
              "    }\n",
              "\n",
              "    .dataframe thead th {\n",
              "        text-align: right;\n",
              "    }\n",
              "</style>\n",
              "<table border=\"1\" class=\"dataframe\">\n",
              "  <thead>\n",
              "    <tr style=\"text-align: right;\">\n",
              "      <th></th>\n",
              "      <th>text</th>\n",
              "      <th>label</th>\n",
              "      <th>labelMeaning</th>\n",
              "    </tr>\n",
              "  </thead>\n",
              "  <tbody>\n",
              "    <tr>\n",
              "      <th>0</th>\n",
              "      <td>Hi, I'm calling to get a case pre-authorized....</td>\n",
              "      <td>3</td>\n",
              "      <td>Resolved</td>\n",
              "    </tr>\n",
              "    <tr>\n",
              "      <th>1</th>\n",
              "      <td>Hi, I'm calling about a denied claim I receiv...</td>\n",
              "      <td>1</td>\n",
              "      <td>Resolved</td>\n",
              "    </tr>\n",
              "    <tr>\n",
              "      <th>2</th>\n",
              "      <td>Hi, I'm calling about my recent doctor's visi...</td>\n",
              "      <td>3</td>\n",
              "      <td>Resolved</td>\n",
              "    </tr>\n",
              "    <tr>\n",
              "      <th>3</th>\n",
              "      <td>Hi, I'm calling about my recent visit to the ...</td>\n",
              "      <td>2</td>\n",
              "      <td>Follow up</td>\n",
              "    </tr>\n",
              "    <tr>\n",
              "      <th>4</th>\n",
              "      <td>Hi, I'd like to schedule an appointment with ...</td>\n",
              "      <td>3</td>\n",
              "      <td>Resolved</td>\n",
              "    </tr>\n",
              "  </tbody>\n",
              "</table>\n",
              "</div>\n",
              "    <div class=\"colab-df-buttons\">\n",
              "\n",
              "  <div class=\"colab-df-container\">\n",
              "    <button class=\"colab-df-convert\" onclick=\"convertToInteractive('df-61e5bfc1-e144-4699-86ed-13f8cb65a9aa')\"\n",
              "            title=\"Convert this dataframe to an interactive table.\"\n",
              "            style=\"display:none;\">\n",
              "\n",
              "  <svg xmlns=\"http://www.w3.org/2000/svg\" height=\"24px\" viewBox=\"0 -960 960 960\">\n",
              "    <path d=\"M120-120v-720h720v720H120Zm60-500h600v-160H180v160Zm220 220h160v-160H400v160Zm0 220h160v-160H400v160ZM180-400h160v-160H180v160Zm440 0h160v-160H620v160ZM180-180h160v-160H180v160Zm440 0h160v-160H620v160Z\"/>\n",
              "  </svg>\n",
              "    </button>\n",
              "\n",
              "  <style>\n",
              "    .colab-df-container {\n",
              "      display:flex;\n",
              "      gap: 12px;\n",
              "    }\n",
              "\n",
              "    .colab-df-convert {\n",
              "      background-color: #E8F0FE;\n",
              "      border: none;\n",
              "      border-radius: 50%;\n",
              "      cursor: pointer;\n",
              "      display: none;\n",
              "      fill: #1967D2;\n",
              "      height: 32px;\n",
              "      padding: 0 0 0 0;\n",
              "      width: 32px;\n",
              "    }\n",
              "\n",
              "    .colab-df-convert:hover {\n",
              "      background-color: #E2EBFA;\n",
              "      box-shadow: 0px 1px 2px rgba(60, 64, 67, 0.3), 0px 1px 3px 1px rgba(60, 64, 67, 0.15);\n",
              "      fill: #174EA6;\n",
              "    }\n",
              "\n",
              "    .colab-df-buttons div {\n",
              "      margin-bottom: 4px;\n",
              "    }\n",
              "\n",
              "    [theme=dark] .colab-df-convert {\n",
              "      background-color: #3B4455;\n",
              "      fill: #D2E3FC;\n",
              "    }\n",
              "\n",
              "    [theme=dark] .colab-df-convert:hover {\n",
              "      background-color: #434B5C;\n",
              "      box-shadow: 0px 1px 3px 1px rgba(0, 0, 0, 0.15);\n",
              "      filter: drop-shadow(0px 1px 2px rgba(0, 0, 0, 0.3));\n",
              "      fill: #FFFFFF;\n",
              "    }\n",
              "  </style>\n",
              "\n",
              "    <script>\n",
              "      const buttonEl =\n",
              "        document.querySelector('#df-61e5bfc1-e144-4699-86ed-13f8cb65a9aa button.colab-df-convert');\n",
              "      buttonEl.style.display =\n",
              "        google.colab.kernel.accessAllowed ? 'block' : 'none';\n",
              "\n",
              "      async function convertToInteractive(key) {\n",
              "        const element = document.querySelector('#df-61e5bfc1-e144-4699-86ed-13f8cb65a9aa');\n",
              "        const dataTable =\n",
              "          await google.colab.kernel.invokeFunction('convertToInteractive',\n",
              "                                                    [key], {});\n",
              "        if (!dataTable) return;\n",
              "\n",
              "        const docLinkHtml = 'Like what you see? Visit the ' +\n",
              "          '<a target=\"_blank\" href=https://colab.research.google.com/notebooks/data_table.ipynb>data table notebook</a>'\n",
              "          + ' to learn more about interactive tables.';\n",
              "        element.innerHTML = '';\n",
              "        dataTable['output_type'] = 'display_data';\n",
              "        await google.colab.output.renderOutput(dataTable, element);\n",
              "        const docLink = document.createElement('div');\n",
              "        docLink.innerHTML = docLinkHtml;\n",
              "        element.appendChild(docLink);\n",
              "      }\n",
              "    </script>\n",
              "  </div>\n",
              "\n",
              "\n",
              "<div id=\"df-4fdcab9d-e61b-44fe-bd6a-383145340cf6\">\n",
              "  <button class=\"colab-df-quickchart\" onclick=\"quickchart('df-4fdcab9d-e61b-44fe-bd6a-383145340cf6')\"\n",
              "            title=\"Suggest charts\"\n",
              "            style=\"display:none;\">\n",
              "\n",
              "<svg xmlns=\"http://www.w3.org/2000/svg\" height=\"24px\"viewBox=\"0 0 24 24\"\n",
              "     width=\"24px\">\n",
              "    <g>\n",
              "        <path d=\"M19 3H5c-1.1 0-2 .9-2 2v14c0 1.1.9 2 2 2h14c1.1 0 2-.9 2-2V5c0-1.1-.9-2-2-2zM9 17H7v-7h2v7zm4 0h-2V7h2v10zm4 0h-2v-4h2v4z\"/>\n",
              "    </g>\n",
              "</svg>\n",
              "  </button>\n",
              "\n",
              "<style>\n",
              "  .colab-df-quickchart {\n",
              "      --bg-color: #E8F0FE;\n",
              "      --fill-color: #1967D2;\n",
              "      --hover-bg-color: #E2EBFA;\n",
              "      --hover-fill-color: #174EA6;\n",
              "      --disabled-fill-color: #AAA;\n",
              "      --disabled-bg-color: #DDD;\n",
              "  }\n",
              "\n",
              "  [theme=dark] .colab-df-quickchart {\n",
              "      --bg-color: #3B4455;\n",
              "      --fill-color: #D2E3FC;\n",
              "      --hover-bg-color: #434B5C;\n",
              "      --hover-fill-color: #FFFFFF;\n",
              "      --disabled-bg-color: #3B4455;\n",
              "      --disabled-fill-color: #666;\n",
              "  }\n",
              "\n",
              "  .colab-df-quickchart {\n",
              "    background-color: var(--bg-color);\n",
              "    border: none;\n",
              "    border-radius: 50%;\n",
              "    cursor: pointer;\n",
              "    display: none;\n",
              "    fill: var(--fill-color);\n",
              "    height: 32px;\n",
              "    padding: 0;\n",
              "    width: 32px;\n",
              "  }\n",
              "\n",
              "  .colab-df-quickchart:hover {\n",
              "    background-color: var(--hover-bg-color);\n",
              "    box-shadow: 0 1px 2px rgba(60, 64, 67, 0.3), 0 1px 3px 1px rgba(60, 64, 67, 0.15);\n",
              "    fill: var(--button-hover-fill-color);\n",
              "  }\n",
              "\n",
              "  .colab-df-quickchart-complete:disabled,\n",
              "  .colab-df-quickchart-complete:disabled:hover {\n",
              "    background-color: var(--disabled-bg-color);\n",
              "    fill: var(--disabled-fill-color);\n",
              "    box-shadow: none;\n",
              "  }\n",
              "\n",
              "  .colab-df-spinner {\n",
              "    border: 2px solid var(--fill-color);\n",
              "    border-color: transparent;\n",
              "    border-bottom-color: var(--fill-color);\n",
              "    animation:\n",
              "      spin 1s steps(1) infinite;\n",
              "  }\n",
              "\n",
              "  @keyframes spin {\n",
              "    0% {\n",
              "      border-color: transparent;\n",
              "      border-bottom-color: var(--fill-color);\n",
              "      border-left-color: var(--fill-color);\n",
              "    }\n",
              "    20% {\n",
              "      border-color: transparent;\n",
              "      border-left-color: var(--fill-color);\n",
              "      border-top-color: var(--fill-color);\n",
              "    }\n",
              "    30% {\n",
              "      border-color: transparent;\n",
              "      border-left-color: var(--fill-color);\n",
              "      border-top-color: var(--fill-color);\n",
              "      border-right-color: var(--fill-color);\n",
              "    }\n",
              "    40% {\n",
              "      border-color: transparent;\n",
              "      border-right-color: var(--fill-color);\n",
              "      border-top-color: var(--fill-color);\n",
              "    }\n",
              "    60% {\n",
              "      border-color: transparent;\n",
              "      border-right-color: var(--fill-color);\n",
              "    }\n",
              "    80% {\n",
              "      border-color: transparent;\n",
              "      border-right-color: var(--fill-color);\n",
              "      border-bottom-color: var(--fill-color);\n",
              "    }\n",
              "    90% {\n",
              "      border-color: transparent;\n",
              "      border-bottom-color: var(--fill-color);\n",
              "    }\n",
              "  }\n",
              "</style>\n",
              "\n",
              "  <script>\n",
              "    async function quickchart(key) {\n",
              "      const quickchartButtonEl =\n",
              "        document.querySelector('#' + key + ' button');\n",
              "      quickchartButtonEl.disabled = true;  // To prevent multiple clicks.\n",
              "      quickchartButtonEl.classList.add('colab-df-spinner');\n",
              "      try {\n",
              "        const charts = await google.colab.kernel.invokeFunction(\n",
              "            'suggestCharts', [key], {});\n",
              "      } catch (error) {\n",
              "        console.error('Error during call to suggestCharts:', error);\n",
              "      }\n",
              "      quickchartButtonEl.classList.remove('colab-df-spinner');\n",
              "      quickchartButtonEl.classList.add('colab-df-quickchart-complete');\n",
              "    }\n",
              "    (() => {\n",
              "      let quickchartButtonEl =\n",
              "        document.querySelector('#df-4fdcab9d-e61b-44fe-bd6a-383145340cf6 button');\n",
              "      quickchartButtonEl.style.display =\n",
              "        google.colab.kernel.accessAllowed ? 'block' : 'none';\n",
              "    })();\n",
              "  </script>\n",
              "</div>\n",
              "\n",
              "    </div>\n",
              "  </div>\n"
            ],
            "application/vnd.google.colaboratory.intrinsic+json": {
              "type": "dataframe",
              "variable_name": "customer_text_df",
              "summary": "{\n  \"name\": \"customer_text_df\",\n  \"rows\": 200,\n  \"fields\": [\n    {\n      \"column\": \"text\",\n      \"properties\": {\n        \"dtype\": \"string\",\n        \"num_unique_values\": 200,\n        \"samples\": [\n          \" Hi, I'm having some trouble registering and logging in to my online service account. My member ID is MEM123456.   When I try to log in, it says my username and password are incorrect. I've tried resetting my password, but it still doesn't work.  My username is jsmith123 and my password is *****. I've also tried using my email address as my username, but that doesn't work either.  Sure, no problem.  Let me check. Ah, yes, I see the problem. I used a different email address when I signed up for the account.  Okay, I've done that. What's the next step?  Okay, let me try that. (pause) Ah, yes! I'm in! Thank you so much for your help!  No, that's all. Thank you again for your help. You've been very patient and helpful.  You too, thank you!\",\n          \" Hi, I'm calling to request a case pre-authorization for a procedure I need to undergo. My name is Emily Wilson, and my member ID is MEM123456.  My date of birth is March 12, 1985, and my primary care physician is Dr. Rachel Kim.  The CPT code is 76700, and the procedure is scheduled for April 15th.  Sure, thank you.  Let me check... (pause) Yes, my current deductible balance is $500.  That sounds great, thank you so much for your help!  No, that's all. Thank you again for your help.  Thank you, bye.  No, that's all. Thank you again for your help.  Thank you, bye.\",\n          \" Hi, I'm calling about a claim that was denied. My member ID is MEM123456. I'm very frustrated because I was told that the policy doesn't cover the service, but I recently switched policies and the new one should cover it.  It's Ms. Johnson.  My date of birth is March 12, 1985, and the denied service was for a physical therapy session on January 10th.  (sighs) Okay...  (angrily) That's unacceptable. I switched policies over a month ago. How could this not be updated?  (sighs) Fine...  (frustrated) A few days? That's not acceptable. I need this resolved now.  (angrily) I expect a call back within the next 24 hours with a resolution. If not, I will be forced to take my business elsewhere.  (firmly) See that you do.  (angrily) No, that's all.  (hangs up the phone)\"\n        ],\n        \"semantic_type\": \"\",\n        \"description\": \"\"\n      }\n    },\n    {\n      \"column\": \"label\",\n      \"properties\": {\n        \"dtype\": \"int32\",\n        \"num_unique_values\": 4,\n        \"samples\": [\n          1,\n          0,\n          3\n        ],\n        \"semantic_type\": \"\",\n        \"description\": \"\"\n      }\n    },\n    {\n      \"column\": \"labelMeaning\",\n      \"properties\": {\n        \"dtype\": \"category\",\n        \"num_unique_values\": 2,\n        \"samples\": [\n          \"Follow up\",\n          \"Resolved\"\n        ],\n        \"semantic_type\": \"\",\n        \"description\": \"\"\n      }\n    }\n  ]\n}"
            }
          },
          "metadata": {},
          "execution_count": 311
        }
      ]
    },
    {
      "cell_type": "markdown",
      "source": [
        "### Bar Chart Shows Number of Sorted and Fellow up Action\n",
        "\n",
        "The bar chart shows that of 200 customer calls, over 60 calls need the following up action."
      ],
      "metadata": {
        "id": "aO4wot9Yx4AZ"
      }
    },
    {
      "cell_type": "code",
      "source": [
        "# Group by label meaning to count\n",
        "count_by_label_df = customer_text_df.groupby('labelMeaning').size()\n",
        "\n",
        "# Rename the series to 'count' to provide a column name for the plot.\n",
        "count_by_label_df = count_by_label_df.rename('count')\n",
        "\n",
        "# plot the dataframe\n",
        "count_by_label_df.plot(x='labelMeaning', y='count', kind='bar', title='Number of Text Message in Each Label')\n",
        "plt.ylabel('Number of Documents')\n",
        "plt.show()"
      ],
      "metadata": {
        "colab": {
          "base_uri": "https://localhost:8080/",
          "height": 523
        },
        "id": "DaTlzJ2BNOdo",
        "outputId": "8eac7714-c61e-40cc-834b-0c0cd72636b8"
      },
      "execution_count": 312,
      "outputs": [
        {
          "output_type": "display_data",
          "data": {
            "text/plain": [
              "<Figure size 640x480 with 1 Axes>"
            ],
            "image/png": "[encoded data removed]"
          },
          "metadata": {}
        }
      ]
    },
    {
      "cell_type": "markdown",
      "source": [
        "# Get Data Insight\n",
        "\n",
        "Scatter Plot from first three features in the Average Embedding for the vasiulazation check of the cluster label"
      ],
      "metadata": {
        "id": "Tk9JeMep607-"
      }
    },
    {
      "cell_type": "code",
      "source": [
        "# Extracting average embedding information for each cluster label\n",
        "class0 = customer_list_embedding_2d[label == 0]\n",
        "class1 = customer_list_embedding_2d[label == 1]\n",
        "class2 = customer_list_embedding_2d[label == 2]\n",
        "class3 = customer_list_embedding_2d[label == 3]\n",
        "\n",
        "# Scatter plot using first two features\n",
        "plt.scatter(class0[:, 0], class0[:, 1], c='red', label='Cluster 0')\n",
        "plt.scatter(class1[:, 0], class1[:, 1], c='blue', label='Cluster 1')\n",
        "plt.scatter(class2[:, 0], class2[:, 1], c='green', label='Cluster 2')\n",
        "plt.scatter(class3[:, 0], class3[:, 1], c='yellow', label='Cluster 4')\n",
        "plt.scatter(kmeans.cluster_centers_[:, 0], kmeans.cluster_centers_[:, 1], s=300, c='black', label='Centroids')\n",
        "plt.title('Scatter Plot from Average Embedding')\n",
        "plt.xlabel('Feature 1')\n",
        "plt.ylabel('Feature 2')\n",
        "plt.show()\n",
        "\n",
        "# Scatter plot using first and third features\n",
        "plt.scatter(class0[:, 0], class0[:, 2], c='red', label='Cluster 0')\n",
        "plt.scatter(class1[:, 0], class1[:, 2], c='blue', label='Cluster 1')\n",
        "plt.scatter(class2[:, 0], class2[:, 2], c='green', label='Cluster 2')\n",
        "plt.scatter(class3[:, 0], class3[:, 2], c='yellow', label='Cluster 4')\n",
        "plt.scatter(kmeans.cluster_centers_[:, 0], kmeans.cluster_centers_[:, 2], s=300, c='black', label='Centroids')\n",
        "plt.title('Scatter Plot from Average Embedding')\n",
        "plt.xlabel('Feature 1')\n",
        "plt.ylabel('Feature 3')\n",
        "plt.show()"
      ],
      "metadata": {
        "colab": {
          "base_uri": "https://localhost:8080/",
          "height": 927
        },
        "id": "LQ1DthM1a27s",
        "outputId": "d289dfa8-802e-4c4d-a5df-933ad1fdf8dc"
      },
      "execution_count": 315,
      "outputs": [
        {
          "output_type": "display_data",
          "data": {
            "text/plain": [
              "<Figure size 640x480 with 1 Axes>"
            ],
            "image/png": "[encoded data removed]"
          },
          "metadata": {}
        },
        {
          "output_type": "display_data",
          "data": {
            "text/plain": [
              "<Figure size 640x480 with 1 Axes>"
            ],
            "image/png": "[encoded data removed]"
          },
          "metadata": {}
        }
      ]
    },
    {
      "cell_type": "markdown",
      "source": [
        "### Get Insight\n",
        "\n",
        "1.   Find the document nearest to the centroid using the centroid of k-mean model to see the message information\n",
        "2.   Extract the key words from the document nearest to the centroid\n",
        "\n"
      ],
      "metadata": {
        "id": "CtVS0kdPVp-A"
      }
    },
    {
      "cell_type": "code",
      "source": [
        "# Find the document nearest to centroid and print out\n",
        "\n",
        "\n",
        "dist0 = []\n",
        "dist1 = []\n",
        "dist2 = []\n",
        "dist3 = []\n",
        "\n",
        "for i in range(200):\n",
        "  # Find the distance between average embedding and centroid\n",
        "  dist0_0 = math.dist(customer_list_embedding_2d[i], kmeans.cluster_centers_[0])\n",
        "  dist1_0 = math.dist(customer_list_embedding_2d[i], kmeans.cluster_centers_[1])\n",
        "  dist2_0 = math.dist(customer_list_embedding_2d[i], kmeans.cluster_centers_[2])\n",
        "  dist3_0 = math.dist(customer_list_embedding_2d[i], kmeans.cluster_centers_[3])\n",
        "\n",
        "  dist0.append(dist0_0)\n",
        "  dist1.append(dist1_0)\n",
        "  dist2.append(dist2_0)\n",
        "  dist3.append(dist3_0)\n",
        "\n",
        "# Find the index that embedding nearest to the centroid\n",
        "label0_near_centroid = dist0.index(min(dist0))\n",
        "label1_near_centroid = dist1.index(min(dist1))\n",
        "label2_near_centroid = dist2.index(min(dist2))\n",
        "label3_near_centroid = dist3.index(min(dist3))\n",
        "\n",
        "print(\"==========================================================\")\n",
        "print(\"Typical customer talking to agent for label 0 \\n\")\n",
        "print(customer_list[label0_near_centroid])\n",
        "print(\"==========================================================\\n\\n\")\n",
        "\n",
        "print(\"==========================================================\")\n",
        "print(\"Typical customer talking to agent for label 1 \\n\")\n",
        "print(customer_list[label1_near_centroid])\n",
        "print(\"==========================================================\\n\\n\")\n",
        "\n",
        "print(\"==========================================================\")\n",
        "print(\"Typical customer talking to agent for label 2 \\n\")\n",
        "print(customer_list[label2_near_centroid])\n",
        "print(\"==========================================================\\n\\n\")\n",
        "\n",
        "print(\"==========================================================\")\n",
        "print(\"Typical customer talking to agent for label 3 \\n\")\n",
        "print(customer_list[label3_near_centroid])\n",
        "print(\"==========================================================\")"
      ],
      "metadata": {
        "colab": {
          "base_uri": "https://localhost:8080/"
        },
        "id": "ZC59cDGXAh7C",
        "outputId": "646250de-b9f3-4d29-ab41-43e3efd839a9"
      },
      "execution_count": 316,
      "outputs": [
        {
          "output_type": "stream",
          "name": "stdout",
          "text": [
            "==========================================================\n",
            "Typical customer talking to agent for label 0 \n",
            "\n",
            " Hi, I'm calling about my recent visit to the doctor's office. I was charged a copay of $50 for a service, but I'm pretty sure my policy doesn't require a copay for that service. Customer Support: I apologize for the inconvenience, can you please provide me with your member ID so I can look into this further?  It's MEM123456.  My name is Emily Wilson and my date of birth is March 12, 1985.  It was on February 20th and I had a follow-up appointment with my primary care physician.  Okay, sure.  That's what I thought. So, what's going to happen next?  Okay, that sounds great. How long will it take for the refund to be processed?  Alright, thank you for your help in resolving this issue.  No, that's all. Thank you again.  Great, thank you. I appreciate it.  Thank you. Bye.\n",
            "==========================================================\n",
            "\n",
            "\n",
            "==========================================================\n",
            "Typical customer talking to agent for label 1 \n",
            "\n",
            " Hi, I'm calling to request a pre-authorization for a medical procedure. My name is Emily Wilson and my member ID is MEM123456.  It's March 12, 1985.  Yes, I need to have a knee replacement surgery. My doctor has recommended it due to severe arthritis.  My doctor's name is Dr. Smith and the procedure will be done at Mercy Hospital.  Sure, no problem.  It's 123 Main Street, Anytown, PA 12345.  Great, thank you! What's the next step?  Okay, sounds good. Thank you for your help!  No, that's all. Thank you again!\n",
            "==========================================================\n",
            "\n",
            "\n",
            "==========================================================\n",
            "Typical customer talking to agent for label 2 \n",
            "\n",
            " Hi, I'm having trouble registering and logging in to my online service account. My member ID is MEM123456.  Well, I'm trying to register for the first time, but it keeps saying that my member ID is invalid. I've double-checked that I've entered it correctly. Technical Support: Okay, let's try a few things. Can you please confirm that you're using the correct format for your member ID? It should be in the format MEM followed by six digits.  Yes, that's exactly what I'm doing. It's MEM123456.  I haven't set up a password yet, I'm trying to register. But I've tried multiple times and it still says my member ID is invalid.  Sure, I'll hold.  That's strange, I signed up a few days ago. Is there anything I can do to speed up the process?  Okay, thank you for trying to help. Can you please escalate the issue and get back to me?  Alright, thank you for your help. I'll keep an eye on my email.  No, that's all for now. Thank you.\n",
            "==========================================================\n",
            "\n",
            "\n",
            "==========================================================\n",
            "Typical customer talking to agent for label 3 \n",
            "\n",
            " Hi, I'm calling to request a case pre-authorization for a procedure I need to undergo. My name is Emily Wilson and my member ID is MEM123456.  My date of birth is March 12, 1985, and my contact number is 555-1234.  The procedure code is XYZ123 and it's scheduled for March 25th. My doctor's name is Dr. Smith and his office is located at 123 Main St.  Sure, thank you.  Okay, that sounds good. How much is the deductible and how much will I need to pay out of pocket?  That sounds good. What's the next step in the process?  Great, thank you so much for your help! I really appreciate it.  You too, thank you again!\n",
            "==========================================================\n"
          ]
        }
      ]
    },
    {
      "cell_type": "markdown",
      "source": [
        "### Extract Key Words\n",
        "\n",
        "It is extracted that the key words in the documents of four different groups that is the nearest the centroid to understand the characters of each cluster labels.\n",
        "\n",
        "From the key words in each cluster label, we could see the label 1 and 3 are mainly related to the authorization, label 0 is related to copay and refund, label 2 is related to online member account.\n",
        "\n",
        "\n"
      ],
      "metadata": {
        "id": "THrperitchyk"
      }
    },
    {
      "cell_type": "code",
      "source": [
        "model = SentenceTransformer('sentence-transformers/all-MiniLM-L6-v2')\n",
        "kw_model = KeyBERT(model=model)"
      ],
      "metadata": {
        "id": "OdLE32djSo12"
      },
      "execution_count": 317,
      "outputs": []
    },
    {
      "cell_type": "code",
      "source": [
        "# Key words from the label 0\n",
        "print(\"Key Words in Cluster Label 0\")\n",
        "kw_model.extract_keywords(customer_list[label0_near_centroid], keyphrase_ngram_range=(1, 1), stop_words=None, top_n=10)"
      ],
      "metadata": {
        "colab": {
          "base_uri": "https://localhost:8080/"
        },
        "id": "wJateC_Sazif",
        "outputId": "b3300bf4-20b0-48a1-adae-5df9640e367c"
      },
      "execution_count": 320,
      "outputs": [
        {
          "output_type": "stream",
          "name": "stdout",
          "text": [
            "Key Words in Cluster Label 0\n"
          ]
        },
        {
          "output_type": "execute_result",
          "data": {
            "text/plain": [
              "[('refund', 0.4739),\n",
              " ('copay', 0.4406),\n",
              " ('appointment', 0.3208),\n",
              " ('physician', 0.2679),\n",
              " ('customer', 0.2666),\n",
              " ('service', 0.258),\n",
              " ('doctor', 0.2525),\n",
              " ('care', 0.2365),\n",
              " ('mem123456', 0.2331),\n",
              " ('resolving', 0.206)]"
            ]
          },
          "metadata": {},
          "execution_count": 320
        }
      ]
    },
    {
      "cell_type": "code",
      "source": [
        "# Key words from label 1\n",
        "print(\"Key Words in Cluster Label 1\")\n",
        "kw_model.extract_keywords(customer_list[label1_near_centroid], keyphrase_ngram_range=(1, 1), stop_words=None, top_n=10)"
      ],
      "metadata": {
        "colab": {
          "base_uri": "https://localhost:8080/"
        },
        "id": "jbhf1OembfBT",
        "outputId": "4acb2e7f-81c3-4657-f072-0f890b697af5"
      },
      "execution_count": 321,
      "outputs": [
        {
          "output_type": "stream",
          "name": "stdout",
          "text": [
            "Key Words in Cluster Label 1\n"
          ]
        },
        {
          "output_type": "execute_result",
          "data": {
            "text/plain": [
              "[('authorization', 0.4456),\n",
              " ('knee', 0.346),\n",
              " ('procedure', 0.3061),\n",
              " ('pre', 0.2967),\n",
              " ('hospital', 0.2829),\n",
              " ('arthritis', 0.2753),\n",
              " ('surgery', 0.2608),\n",
              " ('medical', 0.2538),\n",
              " ('done', 0.2375),\n",
              " ('doctor', 0.237)]"
            ]
          },
          "metadata": {},
          "execution_count": 321
        }
      ]
    },
    {
      "cell_type": "code",
      "source": [
        "# Key words from label 3\n",
        "print(\"Key Words in Cluster Label 2\")\n",
        "kw_model.extract_keywords(customer_list[label2_near_centroid], keyphrase_ngram_range=(1, 1), stop_words=None, top_n=10)"
      ],
      "metadata": {
        "colab": {
          "base_uri": "https://localhost:8080/"
        },
        "id": "sKaeKTJVb63w",
        "outputId": "527d3aaf-0156-4906-d170-260f3638a7a5"
      },
      "execution_count": 322,
      "outputs": [
        {
          "output_type": "stream",
          "name": "stdout",
          "text": [
            "Key Words in Cluster Label 2\n"
          ]
        },
        {
          "output_type": "execute_result",
          "data": {
            "text/plain": [
              "[('registering', 0.5395),\n",
              " ('register', 0.4929),\n",
              " ('mem123456', 0.4555),\n",
              " ('member', 0.3951),\n",
              " ('account', 0.3901),\n",
              " ('invalid', 0.3504),\n",
              " ('id', 0.3438),\n",
              " ('password', 0.3295),\n",
              " ('entered', 0.3029),\n",
              " ('online', 0.2865)]"
            ]
          },
          "metadata": {},
          "execution_count": 322
        }
      ]
    },
    {
      "cell_type": "code",
      "source": [
        "# Key words from label 3\n",
        "print(\"Key Words in Cluster Label 3\")\n",
        "kw_model.extract_keywords(customer_list[label3_near_centroid], keyphrase_ngram_range=(1, 1), stop_words=None, top_n=10)"
      ],
      "metadata": {
        "colab": {
          "base_uri": "https://localhost:8080/"
        },
        "id": "J0StzH39b-rW",
        "outputId": "42b7c414-9a6e-460e-a6ed-81b4b6983c63"
      },
      "execution_count": 323,
      "outputs": [
        {
          "output_type": "stream",
          "name": "stdout",
          "text": [
            "Key Words in Cluster Label 3\n"
          ]
        },
        {
          "output_type": "execute_result",
          "data": {
            "text/plain": [
              "[('deductible', 0.3304),\n",
              " ('authorization', 0.3047),\n",
              " ('procedure', 0.3026),\n",
              " ('pre', 0.2919),\n",
              " ('mem123456', 0.2306),\n",
              " ('doctor', 0.2154),\n",
              " ('1234', 0.2093),\n",
              " ('555', 0.1955),\n",
              " ('contact', 0.193),\n",
              " ('dr', 0.1872)]"
            ]
          },
          "metadata": {},
          "execution_count": 323
        }
      ]
    }
  ]
}
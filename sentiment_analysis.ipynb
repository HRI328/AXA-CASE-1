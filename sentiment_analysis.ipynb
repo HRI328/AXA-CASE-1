{
  "nbformat": 4,
  "nbformat_minor": 0,
  "metadata": {
    "colab": {
      "provenance": [],
      "authorship_tag": "ABX9TyNgwiK0LgwZW3/wrf65JjsG",
      "include_colab_link": true
    },
    "kernelspec": {
      "name": "python3",
      "display_name": "Python 3"
    },
    "language_info": {
      "name": "python"
    }
  },
  "cells": [
    {
      "cell_type": "markdown",
      "metadata": {
        "id": "view-in-github",
        "colab_type": "text"
      },
      "source": [
        "<a href=\"https://colab.research.google.com/github/HRI328/AXA-CASE-1/blob/main/sentiment_analysis.ipynb\" target=\"_parent\"><img src=\"https://colab.research.google.com/assets/colab-badge.svg\" alt=\"Open In Colab\"/></a>"
      ]
    },
    {
      "cell_type": "markdown",
      "source": [
        "# **Import Library**"
      ],
      "metadata": {
        "id": "Anc1nwSPu8gn"
      }
    },
    {
      "cell_type": "code",
      "source": [
        "import matplotlib.pyplot as plt\n",
        "import re\n",
        "import string\n",
        "import tensorflow as tf\n",
        "\n",
        "from tensorflow.keras import layers\n",
        "from tensorflow.keras.layers import Embedding\n",
        "\n",
        "import pandas as pd\n",
        "from sklearn.cluster import KMeans\n",
        "from sklearn.decomposition import PCA"
      ],
      "metadata": {
        "id": "HQelULY1vPC0"
      },
      "execution_count": 105,
      "outputs": []
    },
    {
      "cell_type": "markdown",
      "source": [
        "# **Unzip Uploaded File**\n",
        "Transcript_v3.zip file is ready uploaded manually to Google Colab"
      ],
      "metadata": {
        "id": "8hGuV-Re6Qpl"
      }
    },
    {
      "cell_type": "code",
      "source": [
        "from zipfile import ZipFile\n",
        "\n",
        "fileName = \"transcripts_v3.zip\"\n",
        "\n",
        "with ZipFile(fileName, 'r') as zip:\n",
        "    zip.printdir()\n",
        "    print('Extracting all the files now...')\n",
        "    for file in zip.namelist():\n",
        "      zip.extractall()\n",
        "    print('Done')"
      ],
      "metadata": {
        "colab": {
          "base_uri": "https://localhost:8080/"
        },
        "id": "LjOIVTb-xR-e",
        "outputId": "f2835940-4f0f-4617-8513-148545d0ba68"
      },
      "execution_count": 40,
      "outputs": [
        {
          "output_type": "stream",
          "name": "stdout",
          "text": [
            "File Name                                             Modified             Size\n",
            "manifest.mf                                    2024-10-11 07:08:44          101\n",
            "transcripts_v3/                                2024-10-11 07:08:44           98\n",
            "transcripts_v3/transcript_0.txt                2024-10-11 07:08:44         2298\n",
            "transcripts_v3/transcript_1.txt                2024-10-11 07:08:44         1915\n",
            "transcripts_v3/transcript_2.txt                2024-10-11 07:08:44         2021\n",
            "transcripts_v3/transcript_3.txt                2024-10-11 07:08:44         2572\n",
            "transcripts_v3/transcript_4.txt                2024-10-11 07:08:44         1537\n",
            "transcripts_v3/transcript_5.txt                2024-10-11 07:08:44         2425\n",
            "transcripts_v3/transcript_6.txt                2024-10-11 07:08:44         2209\n",
            "transcripts_v3/transcript_7.txt                2024-10-11 07:08:44         2062\n",
            "transcripts_v3/transcript_8.txt                2024-10-11 07:08:44         2670\n",
            "transcripts_v3/transcript_9.txt                2024-10-11 07:08:44         1989\n",
            "transcripts_v3/transcript_10.txt               2024-10-11 07:08:44         2297\n",
            "transcripts_v3/transcript_11.txt               2024-10-11 07:08:44         1992\n",
            "transcripts_v3/transcript_12.txt               2024-10-11 07:08:44         1455\n",
            "transcripts_v3/transcript_13.txt               2024-10-11 07:08:44         1882\n",
            "transcripts_v3/transcript_14.txt               2024-10-11 07:08:44         2218\n",
            "transcripts_v3/transcript_15.txt               2024-10-11 07:08:44         2178\n",
            "transcripts_v3/transcript_16.txt               2024-10-11 07:08:44         1492\n",
            "transcripts_v3/transcript_17.txt               2024-10-11 07:08:44         1963\n",
            "transcripts_v3/transcript_18.txt               2024-10-11 07:08:44         1551\n",
            "transcripts_v3/transcript_19.txt               2024-10-11 07:08:44         2582\n",
            "transcripts_v3/transcript_20.txt               2024-10-11 07:08:44         1949\n",
            "transcripts_v3/transcript_21.txt               2024-10-11 07:08:44         2650\n",
            "transcripts_v3/transcript_22.txt               2024-10-11 07:08:44         2068\n",
            "transcripts_v3/transcript_23.txt               2024-10-11 07:08:44         1732\n",
            "transcripts_v3/transcript_24.txt               2024-10-11 07:08:44         1781\n",
            "transcripts_v3/transcript_25.txt               2024-10-11 07:08:44         2266\n",
            "transcripts_v3/transcript_26.txt               2024-10-11 07:08:44         1792\n",
            "transcripts_v3/transcript_27.txt               2024-10-11 07:08:44         2517\n",
            "transcripts_v3/transcript_28.txt               2024-10-11 07:08:44         1869\n",
            "transcripts_v3/transcript_29.txt               2024-10-11 07:08:44         2260\n",
            "transcripts_v3/transcript_30.txt               2024-10-11 07:08:44         2351\n",
            "transcripts_v3/transcript_31.txt               2024-10-11 07:08:44         2472\n",
            "transcripts_v3/transcript_32.txt               2024-10-11 07:08:44         2141\n",
            "transcripts_v3/transcript_33.txt               2024-10-11 07:08:44         1812\n",
            "transcripts_v3/transcript_34.txt               2024-10-11 07:08:44         2044\n",
            "transcripts_v3/transcript_35.txt               2024-10-11 07:08:44         2659\n",
            "transcripts_v3/transcript_36.txt               2024-10-11 07:08:44         2321\n",
            "transcripts_v3/transcript_37.txt               2024-10-11 07:08:44         2213\n",
            "transcripts_v3/transcript_38.txt               2024-10-11 07:08:44         2341\n",
            "transcripts_v3/transcript_39.txt               2024-10-11 07:08:44         1896\n",
            "transcripts_v3/transcript_40.txt               2024-10-11 07:08:44         1783\n",
            "transcripts_v3/transcript_41.txt               2024-10-11 07:08:44         2025\n",
            "transcripts_v3/transcript_42.txt               2024-10-11 07:08:44         2659\n",
            "transcripts_v3/transcript_43.txt               2024-10-11 07:08:44         1625\n",
            "transcripts_v3/transcript_44.txt               2024-10-11 07:08:44         2104\n",
            "transcripts_v3/transcript_45.txt               2024-10-11 07:08:44         2586\n",
            "transcripts_v3/transcript_46.txt               2024-10-11 07:08:44         1967\n",
            "transcripts_v3/transcript_47.txt               2024-10-11 07:08:44         2111\n",
            "transcripts_v3/transcript_48.txt               2024-10-11 07:08:44         2580\n",
            "transcripts_v3/transcript_49.txt               2024-10-11 07:08:44         2604\n",
            "transcripts_v3/transcript_50.txt               2024-10-11 07:08:44         2114\n",
            "transcripts_v3/transcript_51.txt               2024-10-11 07:08:44         2186\n",
            "transcripts_v3/transcript_52.txt               2024-10-11 07:08:44         1533\n",
            "transcripts_v3/transcript_53.txt               2024-10-11 07:08:44         1732\n",
            "transcripts_v3/transcript_54.txt               2024-10-11 07:08:44         1666\n",
            "transcripts_v3/transcript_55.txt               2024-10-11 07:08:44         2034\n",
            "transcripts_v3/transcript_56.txt               2024-10-11 07:08:44         3400\n",
            "transcripts_v3/transcript_57.txt               2024-10-11 07:08:44         1980\n",
            "transcripts_v3/transcript_58.txt               2024-10-11 07:08:44         2008\n",
            "transcripts_v3/transcript_59.txt               2024-10-11 07:08:46         2154\n",
            "transcripts_v3/transcript_60.txt               2024-10-11 07:08:46         2071\n",
            "transcripts_v3/transcript_61.txt               2024-10-11 07:08:46         2366\n",
            "transcripts_v3/transcript_62.txt               2024-10-11 07:08:46         1934\n",
            "transcripts_v3/transcript_63.txt               2024-10-11 07:08:46         2655\n",
            "transcripts_v3/transcript_64.txt               2024-10-11 07:08:46         2958\n",
            "transcripts_v3/transcript_65.txt               2024-10-11 07:08:46         2503\n",
            "transcripts_v3/transcript_66.txt               2024-10-11 07:08:46         2536\n",
            "transcripts_v3/transcript_67.txt               2024-10-11 07:08:46         2165\n",
            "transcripts_v3/transcript_68.txt               2024-10-11 07:08:46         1751\n",
            "transcripts_v3/transcript_69.txt               2024-10-11 07:08:46         2420\n",
            "transcripts_v3/transcript_70.txt               2024-10-11 07:08:46         1996\n",
            "transcripts_v3/transcript_71.txt               2024-10-11 07:08:46         1929\n",
            "transcripts_v3/transcript_72.txt               2024-10-11 07:08:46         1537\n",
            "transcripts_v3/transcript_73.txt               2024-10-11 07:08:46         2011\n",
            "transcripts_v3/transcript_74.txt               2024-10-11 07:08:46         1975\n",
            "transcripts_v3/transcript_75.txt               2024-10-11 07:08:46         3153\n",
            "transcripts_v3/transcript_76.txt               2024-10-11 07:08:46         1988\n",
            "transcripts_v3/transcript_77.txt               2024-10-11 07:08:46         2181\n",
            "transcripts_v3/transcript_78.txt               2024-10-11 07:08:46         1491\n",
            "transcripts_v3/transcript_79.txt               2024-10-11 07:08:46         2199\n",
            "transcripts_v3/transcript_80.txt               2024-10-11 07:08:46         2486\n",
            "transcripts_v3/transcript_81.txt               2024-10-11 07:08:46         1736\n",
            "transcripts_v3/transcript_82.txt               2024-10-11 07:08:46         2436\n",
            "transcripts_v3/transcript_83.txt               2024-10-11 07:08:46         1819\n",
            "transcripts_v3/transcript_84.txt               2024-10-11 07:08:46         2731\n",
            "transcripts_v3/transcript_85.txt               2024-10-11 07:08:46         1996\n",
            "transcripts_v3/transcript_86.txt               2024-10-11 07:08:46         1816\n",
            "transcripts_v3/transcript_87.txt               2024-10-11 07:08:46         1699\n",
            "transcripts_v3/transcript_88.txt               2024-10-11 07:08:46         2199\n",
            "transcripts_v3/transcript_89.txt               2024-10-11 07:08:46         2469\n",
            "transcripts_v3/transcript_90.txt               2024-10-11 07:08:46         1960\n",
            "transcripts_v3/transcript_91.txt               2024-10-11 07:08:46         1675\n",
            "transcripts_v3/transcript_92.txt               2024-10-11 07:08:46         1760\n",
            "transcripts_v3/transcript_93.txt               2024-10-11 07:08:46         1748\n",
            "transcripts_v3/transcript_94.txt               2024-10-11 07:08:46         1830\n",
            "transcripts_v3/transcript_95.txt               2024-10-11 07:08:46         2247\n",
            "transcripts_v3/transcript_96.txt               2024-10-11 07:08:46         1829\n",
            "transcripts_v3/transcript_97.txt               2024-10-11 07:08:46         1729\n",
            "transcripts_v3/transcript_98.txt               2024-10-11 07:08:46         2004\n",
            "transcripts_v3/transcript_99.txt               2024-10-11 07:08:46         1569\n",
            "transcripts_v3/transcript_100.txt              2024-10-11 07:08:46         2234\n",
            "transcripts_v3/transcript_101.txt              2024-10-11 07:08:46         1623\n",
            "transcripts_v3/transcript_102.txt              2024-10-11 07:08:46         2444\n",
            "transcripts_v3/transcript_103.txt              2024-10-11 07:08:46         2030\n",
            "transcripts_v3/transcript_104.txt              2024-10-11 07:08:46         2637\n",
            "transcripts_v3/transcript_105.txt              2024-10-11 07:08:46         2131\n",
            "transcripts_v3/transcript_106.txt              2024-10-11 07:08:46         1864\n",
            "transcripts_v3/transcript_107.txt              2024-10-11 07:08:46         1585\n",
            "transcripts_v3/transcript_108.txt              2024-10-11 07:08:46         2478\n",
            "transcripts_v3/transcript_109.txt              2024-10-11 07:08:46         2008\n",
            "transcripts_v3/transcript_110.txt              2024-10-11 07:08:46         2687\n",
            "transcripts_v3/transcript_111.txt              2024-10-11 07:08:46         2034\n",
            "transcripts_v3/transcript_112.txt              2024-10-11 07:08:46         2324\n",
            "transcripts_v3/transcript_113.txt              2024-10-11 07:08:46         2441\n",
            "transcripts_v3/transcript_114.txt              2024-10-11 07:08:46         1541\n",
            "transcripts_v3/transcript_115.txt              2024-10-11 07:08:46         2025\n",
            "transcripts_v3/transcript_116.txt              2024-10-11 07:08:46         1609\n",
            "transcripts_v3/transcript_117.txt              2024-10-11 07:08:46         2064\n",
            "transcripts_v3/transcript_118.txt              2024-10-11 07:08:46         1590\n",
            "transcripts_v3/transcript_119.txt              2024-10-11 07:08:46         2608\n",
            "transcripts_v3/transcript_120.txt              2024-10-11 07:08:46         1988\n",
            "transcripts_v3/transcript_121.txt              2024-10-11 07:08:46         2265\n",
            "transcripts_v3/transcript_122.txt              2024-10-11 07:08:46         1932\n",
            "transcripts_v3/transcript_123.txt              2024-10-11 07:08:46         2427\n",
            "transcripts_v3/transcript_124.txt              2024-10-11 07:08:46         2580\n",
            "transcripts_v3/transcript_125.txt              2024-10-11 07:08:46         2303\n",
            "transcripts_v3/transcript_126.txt              2024-10-11 07:08:46         1712\n",
            "transcripts_v3/transcript_127.txt              2024-10-11 07:08:46         2200\n",
            "transcripts_v3/transcript_128.txt              2024-10-11 07:08:46         1509\n",
            "transcripts_v3/transcript_129.txt              2024-10-11 07:08:46         2226\n",
            "transcripts_v3/transcript_130.txt              2024-10-11 07:08:46         1807\n",
            "transcripts_v3/transcript_131.txt              2024-10-11 07:08:46         2025\n",
            "transcripts_v3/transcript_132.txt              2024-10-11 07:08:46         2679\n",
            "transcripts_v3/transcript_133.txt              2024-10-11 07:08:46         2094\n",
            "transcripts_v3/transcript_134.txt              2024-10-11 07:08:46         1491\n",
            "transcripts_v3/transcript_135.txt              2024-10-11 07:08:46         1787\n",
            "transcripts_v3/transcript_136.txt              2024-10-11 07:08:46         1736\n",
            "transcripts_v3/transcript_137.txt              2024-10-11 07:08:46         1752\n",
            "transcripts_v3/transcript_138.txt              2024-10-11 07:08:46         2102\n",
            "transcripts_v3/transcript_139.txt              2024-10-11 07:08:46         2004\n",
            "transcripts_v3/transcript_140.txt              2024-10-11 07:08:46         1528\n",
            "transcripts_v3/transcript_141.txt              2024-10-11 07:08:46         2053\n",
            "transcripts_v3/transcript_142.txt              2024-10-11 07:08:46         2069\n",
            "transcripts_v3/transcript_143.txt              2024-10-11 07:08:46         1792\n",
            "transcripts_v3/transcript_144.txt              2024-10-11 07:08:46         2339\n",
            "transcripts_v3/transcript_145.txt              2024-10-11 07:08:46         1677\n",
            "transcripts_v3/transcript_146.txt              2024-10-11 07:08:46         1818\n",
            "transcripts_v3/transcript_147.txt              2024-10-11 07:08:46         1955\n",
            "transcripts_v3/transcript_148.txt              2024-10-11 07:08:46         1972\n",
            "transcripts_v3/transcript_149.txt              2024-10-11 07:08:46         2294\n",
            "transcripts_v3/transcript_150.txt              2024-10-11 07:08:46         2231\n",
            "transcripts_v3/transcript_151.txt              2024-10-11 07:08:46         2503\n",
            "transcripts_v3/transcript_152.txt              2024-10-11 07:08:46         2005\n",
            "transcripts_v3/transcript_153.txt              2024-10-11 07:08:46         1912\n",
            "transcripts_v3/transcript_154.txt              2024-10-11 07:08:46         2009\n",
            "transcripts_v3/transcript_155.txt              2024-10-11 07:08:46         2026\n",
            "transcripts_v3/transcript_156.txt              2024-10-11 07:08:46         1896\n",
            "transcripts_v3/transcript_157.txt              2024-10-11 07:08:46         3091\n",
            "transcripts_v3/transcript_158.txt              2024-10-11 07:08:46         2194\n",
            "transcripts_v3/transcript_159.txt              2024-10-11 07:08:46         2427\n",
            "transcripts_v3/transcript_160.txt              2024-10-11 07:08:46         2148\n",
            "transcripts_v3/transcript_161.txt              2024-10-11 07:08:46         2121\n",
            "transcripts_v3/transcript_162.txt              2024-10-11 07:08:46         1370\n",
            "transcripts_v3/transcript_163.txt              2024-10-11 07:08:46         1789\n",
            "transcripts_v3/transcript_164.txt              2024-10-11 07:08:46         1543\n",
            "transcripts_v3/transcript_165.txt              2024-10-11 07:08:46         2140\n",
            "transcripts_v3/transcript_166.txt              2024-10-11 07:08:46         1908\n",
            "transcripts_v3/transcript_167.txt              2024-10-11 07:08:46         2601\n",
            "transcripts_v3/transcript_168.txt              2024-10-11 07:08:46         1696\n",
            "transcripts_v3/transcript_169.txt              2024-10-11 07:08:46         1799\n",
            "transcripts_v3/transcript_170.txt              2024-10-11 07:08:46         2233\n",
            "transcripts_v3/transcript_171.txt              2024-10-11 07:08:46         1707\n",
            "transcripts_v3/transcript_172.txt              2024-10-11 07:08:46         2463\n",
            "transcripts_v3/transcript_173.txt              2024-10-11 07:08:46         2112\n",
            "transcripts_v3/transcript_174.txt              2024-10-11 07:08:46         1877\n",
            "transcripts_v3/transcript_175.txt              2024-10-11 07:08:46         2303\n",
            "transcripts_v3/transcript_176.txt              2024-10-11 07:08:46         1867\n",
            "transcripts_v3/transcript_177.txt              2024-10-11 07:08:46         2030\n",
            "transcripts_v3/transcript_178.txt              2024-10-11 07:08:46         1854\n",
            "transcripts_v3/transcript_179.txt              2024-10-11 07:08:46         1821\n",
            "transcripts_v3/transcript_180.txt              2024-10-11 07:08:46         2232\n",
            "transcripts_v3/transcript_181.txt              2024-10-11 07:08:46         2467\n",
            "transcripts_v3/transcript_182.txt              2024-10-11 07:08:46         2290\n",
            "transcripts_v3/transcript_183.txt              2024-10-11 07:08:46         2226\n",
            "transcripts_v3/transcript_184.txt              2024-10-11 07:08:46         2902\n",
            "transcripts_v3/transcript_185.txt              2024-10-11 07:08:46         2170\n",
            "transcripts_v3/transcript_186.txt              2024-10-11 07:08:46         1844\n",
            "transcripts_v3/transcript_187.txt              2024-10-11 07:08:46         2139\n",
            "transcripts_v3/transcript_188.txt              2024-10-11 07:08:46         1794\n",
            "transcripts_v3/transcript_189.txt              2024-10-11 07:08:46         2170\n",
            "transcripts_v3/transcript_190.txt              2024-10-11 07:08:46         2160\n",
            "transcripts_v3/transcript_191.txt              2024-10-11 07:08:46         1620\n",
            "transcripts_v3/transcript_192.txt              2024-10-11 07:08:46         1998\n",
            "transcripts_v3/transcript_193.txt              2024-10-11 07:08:46         1836\n",
            "transcripts_v3/transcript_194.txt              2024-10-11 07:08:46         2032\n",
            "transcripts_v3/transcript_195.txt              2024-10-11 07:08:46         2084\n",
            "transcripts_v3/transcript_196.txt              2024-10-11 07:08:46         2530\n",
            "transcripts_v3/transcript_197.txt              2024-10-11 07:08:46         2353\n",
            "transcripts_v3/transcript_198.txt              2024-10-11 07:08:46         1725\n",
            "transcripts_v3/transcript_199.txt              2024-10-11 07:08:46         1955\n",
            "Extracting all the files now...\n",
            "Done\n"
          ]
        }
      ]
    },
    {
      "cell_type": "markdown",
      "source": [
        "# **Input Data to Google Colab and Overview**\n",
        "\n",
        "The transcripts_v3.zip data file has been unzipped into transcripts_v3 folder. Here the unzipped text data is inputted into Googl Colab to have a look.\n",
        "The result shows this data file has total 200 text message without label. The test message has punctuation and \"\\n\"."
      ],
      "metadata": {
        "id": "cXeFvk7TtH5f"
      }
    },
    {
      "cell_type": "code",
      "source": [
        "text_all = []\n",
        "for i in range(200):\n",
        "  file = open(\"transcripts_v3/transcript_\"+str(i)+\".txt\", \"r\")\n",
        "  test_1 = file.read()\n",
        "  text_all.append(test_1)\n",
        "  file.close\n",
        "\n",
        "print(f\"Number of text message is : {len(text_all)}\")\n",
        "print(text_all[0])\n"
      ],
      "metadata": {
        "colab": {
          "base_uri": "https://localhost:8080/"
        },
        "id": "TWvN7s5R3k1m",
        "outputId": "5fcbcebf-fb48-4186-adc6-9f39d806a636"
      },
      "execution_count": 207,
      "outputs": [
        {
          "output_type": "stream",
          "name": "stdout",
          "text": [
            "Number of text message is : 200\n",
            "Member: Hi, I'm calling to get a case pre-authorized. My name is Emily Wilson and my member ID is MEM456789.\n",
            "\n",
            "PA Agent: Hi Emily, thank you for calling PA customer care. Can you please confirm your date of birth for verification purposes?\n",
            "\n",
            "Member: It's March 12, 1985.\n",
            "\n",
            "PA Agent: Thank you, Emily. Can you please provide me with some details about the case you're seeking pre-authorization for? What's the nature of the treatment or service you're looking to receive?\n",
            "\n",
            "Member: I'm scheduled to undergo an MRI scan for a knee injury. My doctor's office has already submitted the request, but I wanted to confirm the status and ensure that it's covered under my plan.\n",
            "\n",
            "PA Agent: I apologize for the delay, Emily. Let me just check on the status of your request. Can you please hold for just a moment?\n",
            "\n",
            "Member: Sure, thank you.\n",
            "\n",
            "PA Agent: Thank you for holding, Emily. I've located your request and I'm reviewing the details now. Can you please confirm the name of your doctor and the facility where the MRI scan is scheduled to take place?\n",
            "\n",
            "Member: My doctor's name is Dr. Smith and the facility is Oakwood Medical Center.\n",
            "\n",
            "PA Agent: Thank you, Emily. I've verified the information and I'm checking your eligibility now. Can you please hold for just another moment?\n",
            "\n",
            "Member: Okay.\n",
            "\n",
            "PA Agent: Thank you for holding, Emily. I've checked your eligibility and it appears that you do have coverage for the MRI scan under your plan. However, I need to escalate this request to our medical review team for further evaluation.\n",
            "\n",
            "Member: Okay, what does that mean?\n",
            "\n",
            "PA Agent: It means that our medical review team will review your case and make a determination regarding pre-authorization. I apologize, but I won't be able to provide a decision today. We'll be in touch with you within the next 3-5 business days to let you know the outcome.\n",
            "\n",
            "Member: Okay, that sounds good. Can you give me a reference number for this case so I can follow up if needed?\n",
            "\n",
            "PA Agent: Yes, certainly. Your case number is PA001234. You can use this number to follow up on the status of your request.\n",
            "\n",
            "Member: Great, thank you for your help.\n",
            "\n",
            "PA Agent: You're welcome, Emily. We'll be in touch soon. Is there anything else I can assist you with today?\n",
            "\n",
            "Member: No, that's all. Thank you.\n",
            "\n",
            "PA Agent: You're welcome. Have a great day.\n"
          ]
        }
      ]
    },
    {
      "cell_type": "markdown",
      "source": [
        "# **Extract Customer Information**"
      ],
      "metadata": {
        "id": "l-sCQoR3ouOl"
      }
    },
    {
      "cell_type": "code",
      "source": [
        "customer_list = []\n",
        "for i in range(200):\n",
        "  customer = list(filter(lambda x: 'member' in x.lower(), text_all[i].split('\\n')))\n",
        "  customer_list.append(' '.join(customer))\n"
      ],
      "metadata": {
        "id": "1fRfFciUPPIk"
      },
      "execution_count": 145,
      "outputs": []
    },
    {
      "cell_type": "markdown",
      "source": [
        "# **Standardize Text Message**\n",
        "Convert all character into lower case and replace all special characters by space, replace multiple space by single space."
      ],
      "metadata": {
        "id": "UzalTB_wPVLe"
      }
    },
    {
      "cell_type": "code",
      "source": [
        "def standard_text(inputText):\n",
        "  # This function is used to standardize the text massage\n",
        "  # inputText : test string\n",
        "  # return : tensor\n",
        "  inputText_low = tf.strings.lower(inputText)\n",
        "  inputText_low1 = tf.strings.regex_replace(inputText_low, '[^a-z0-9 ]', ' ')\n",
        "  inputText_low2 = tf.strings.regex_replace(inputText_low1, ' +', ' ')\n",
        "  return tf.strings.regex_replace(inputText_low2, '[%s]' % re.escape(string.punctuation), '')\n"
      ],
      "metadata": {
        "id": "Sp9pgs7euswy"
      },
      "execution_count": 163,
      "outputs": []
    },
    {
      "cell_type": "code",
      "source": [
        "# Test the standardize text function\n",
        "standard_text(customer_list[2])"
      ],
      "metadata": {
        "id": "FpP2ajLgtSRh",
        "colab": {
          "base_uri": "https://localhost:8080/"
        },
        "outputId": "7815404c-98af-47a2-fd22-b148b7e8ca92"
      },
      "execution_count": 164,
      "outputs": [
        {
          "output_type": "execute_result",
          "data": {
            "text/plain": [
              "<tf.Tensor: shape=(), dtype=string, numpy=b'member hi i m calling about my recent doctor s visit i was charged a copay of 50 but i thought my policy covered that service with a 20 copay customer support i apologize for the inconvenience mr johnson can you please provide me with your member id so i can look into this further member it s mem456789 member it was on february 10th and it was a routine physical exam member yeah because my policy says that routine physical exams have a 20 copay or sometimes no copay at all member okay that sounds good how long will it take to resolve this member alright that sounds good can i get a reference number for the case member okay got it thank you for your help member alright thanks member no that s all member you too thanks '>"
            ]
          },
          "metadata": {},
          "execution_count": 164
        }
      ]
    },
    {
      "cell_type": "code",
      "source": [
        "# maximum number of words set\n",
        "max_features = 1100\n",
        "# text sentence could include maximum word\n",
        "sequence_length = 400\n",
        "\n",
        "# Vectorization of text message\n",
        "vectorize_layer = layers.TextVectorization(\n",
        "    standardize=standard_text,\n",
        "    max_tokens=max_features,\n",
        "    output_mode='int',\n",
        "    output_sequence_length=sequence_length)\n",
        "\n",
        "vectorize_layer.adapt(customer_list)"
      ],
      "metadata": {
        "id": "MyKXMePX4ecW"
      },
      "execution_count": 168,
      "outputs": []
    },
    {
      "cell_type": "code",
      "source": [
        "# Make text vectorization\n",
        "def vectorize_text(text):\n",
        "  text = tf.expand_dims(text, -1)\n",
        "  return vectorize_layer(text)"
      ],
      "metadata": {
        "id": "8GWK7Pmx67FX"
      },
      "execution_count": 169,
      "outputs": []
    },
    {
      "cell_type": "code",
      "source": [
        "# Random vocabulary check\n",
        "print(\"0 to 9 ----->\", vectorize_layer.get_vocabulary()[:10])\n",
        "print(\"20 to 29 ----->\", vectorize_layer.get_vocabulary()[20:30])\n",
        "print(\"300 to 309 ----->\", vectorize_layer.get_vocabulary()[300:310])\n",
        "print(\"1000 to 1009 ----->\", vectorize_layer.get_vocabulary()[1000:1010])\n",
        "print(\"Vaocabulary size : {}\".format(len(vectorize_layer.get_vocabulary())))"
      ],
      "metadata": {
        "colab": {
          "base_uri": "https://localhost:8080/"
        },
        "id": "8pzhpRr57LBX",
        "outputId": "07c577f8-ef8f-4941-ef7b-3d7af1d9d44d"
      },
      "execution_count": 170,
      "outputs": [
        {
          "output_type": "stream",
          "name": "stdout",
          "text": [
            "0 to 9 -----> ['', '[UNK]', 'member', 'i', 'my', 'you', 'that', 'to', 'is', 'the']\n",
            "20 to 29 -----> ['but', 'can', 'was', 'id', 'in', 'no', 'hi', 'policy', 'sounds', 'all']\n",
            "300 to 309 -----> ['we', 'update', 'told', 'them', 'ridiculous', 'reprocess', 'plan', 'orthopedic', 'multiple', 'mr']\n",
            "1000 to 1009 -----> ['8', '76700', '73600', '715', '654321', '6', '5555', '500', '5', '4219']\n",
            "Vaocabulary size : 1023\n"
          ]
        }
      ]
    },
    {
      "cell_type": "markdown",
      "source": [],
      "metadata": {
        "id": "R3CBwNrC-9F-"
      }
    },
    {
      "cell_type": "markdown",
      "source": [
        "# **Embedding**"
      ],
      "metadata": {
        "id": "c2ba9-Kn_R34"
      }
    },
    {
      "cell_type": "code",
      "source": [
        "embedding = Embedding(input_dim=max_features, output_dim=16)\n",
        "\n",
        "customer_list_embedding = embedding(vectorize_layer(customer_list))"
      ],
      "metadata": {
        "id": "XOer8vCHD0cQ"
      },
      "execution_count": 171,
      "outputs": []
    },
    {
      "cell_type": "code",
      "source": [
        "# check the shape of the embedding\n",
        "customer_list_embedding.shape"
      ],
      "metadata": {
        "colab": {
          "base_uri": "https://localhost:8080/"
        },
        "id": "ThzPqxll8Y4Z",
        "outputId": "8c9cfdfd-986d-47f4-fc2c-5bbe86601c09"
      },
      "execution_count": 172,
      "outputs": [
        {
          "output_type": "execute_result",
          "data": {
            "text/plain": [
              "TensorShape([200, 400, 16])"
            ]
          },
          "metadata": {},
          "execution_count": 172
        }
      ]
    },
    {
      "cell_type": "code",
      "source": [
        "# Check embedding\n",
        "customer_list_embedding[0, 0]"
      ],
      "metadata": {
        "colab": {
          "base_uri": "https://localhost:8080/"
        },
        "id": "yAcL_6Dn_egq",
        "outputId": "811f16be-712c-4fd5-c7cd-eb0c27472434"
      },
      "execution_count": 173,
      "outputs": [
        {
          "output_type": "execute_result",
          "data": {
            "text/plain": [
              "<tf.Tensor: shape=(16,), dtype=float32, numpy=\n",
              "array([ 0.02256527, -0.01015963, -0.0134517 , -0.04695266,  0.02395989,\n",
              "        0.02997326, -0.02799593,  0.04342672, -0.01042522,  0.01506963,\n",
              "        0.00218891,  0.04749424, -0.04297661, -0.01693338,  0.03743874,\n",
              "        0.01172577], dtype=float32)>"
            ]
          },
          "metadata": {},
          "execution_count": 173
        }
      ]
    },
    {
      "cell_type": "code",
      "source": [
        "# Reshape the data to 2D by averaging the embedding for each document\n",
        "customer_list_embedding_2d = tf.reduce_mean(customer_list_embedding, axis=1).numpy()\n",
        "customer_list_embedding_2d.shape\n",
        "\n"
      ],
      "metadata": {
        "colab": {
          "base_uri": "https://localhost:8080/"
        },
        "id": "2DPW3Y6KX99y",
        "outputId": "ab6f8281-18d8-442f-ba22-15c610a476bd"
      },
      "execution_count": 174,
      "outputs": [
        {
          "output_type": "execute_result",
          "data": {
            "text/plain": [
              "(200, 16)"
            ]
          },
          "metadata": {},
          "execution_count": 174
        }
      ]
    },
    {
      "cell_type": "markdown",
      "source": [
        "# **Using K-mean to Clusterring**\n",
        "The text message has not been labelled. So unsupervised machine learning is used. Here k-mean is used.\n",
        "The reason is:\n",
        "     \n",
        "*   Simple: easy to understand and implement.\n",
        "*   Efficient: fast compared to other clustering algorithms.\n",
        "*   Interpretable: easy to understand and can help derive insights.\n"
      ],
      "metadata": {
        "id": "1wrvCWDz1-Ut"
      }
    },
    {
      "cell_type": "code",
      "source": [
        "tf.compat.v1.logging.set_verbosity(tf.compat.v1.logging.ERROR)\n",
        "\n",
        "# set number of clusters as 3 to corresponding to Positive, Negative, and Neutral\n",
        "kmeans = KMeans(n_clusters=3,\n",
        "                tol=.0001,\n",
        "                max_iter=15,\n",
        "                random_state=0)\n",
        "label = kmeans.fit_predict(customer_list_embedding_2d)\n"
      ],
      "metadata": {
        "id": "_jASh3Me9gda"
      },
      "execution_count": 200,
      "outputs": []
    },
    {
      "cell_type": "markdown",
      "source": [
        "# **Convert Text Message into Dataframe and Attaching Label Identified**"
      ],
      "metadata": {
        "id": "2yeJ2f3y3MFH"
      }
    },
    {
      "cell_type": "code",
      "source": [
        "customer_text_df = pd.DataFrame(customer_list, columns=['text'])\n",
        "customer_text_df['label'] = label"
      ],
      "metadata": {
        "colab": {
          "base_uri": "https://localhost:8080/",
          "height": 394
        },
        "id": "HAaleaGq_3LO",
        "outputId": "4d4f196e-2f42-4421-b4ff-4a9f0b093cc2"
      },
      "execution_count": 189,
      "outputs": [
        {
          "output_type": "execute_result",
          "data": {
            "text/plain": [
              "                                                 text  label\n",
              "50  Member: Hi, I'm calling about my recent copay ...      0\n",
              "51  Member: Hi, I'm calling about my recent bill f...      0\n",
              "52  Member: Hi, I'm calling to schedule an appoint...      1\n",
              "53  Member: Hi, I'm having trouble registering and...      0\n",
              "54  Member: Hi, I'm calling to get a case pre-auth...      1\n",
              "55  Member: Hi, I'm calling about a denied claim I...      0\n",
              "56  Member: Hi, I'm calling to get a case pre-auth...      2\n",
              "57  Member: Hi, I'm calling about my recent doctor...      1\n",
              "58  Member: Hi, I'm calling to request a pre-autho...      1\n",
              "59  Member: Hi, I'm calling to get a case pre-auth...      1\n",
              "60  Member: Hi, I'm calling about a denied claim I...      1"
            ],
            "text/html": [
              "\n",
              "  <div id=\"df-d1508b10-78db-4f46-bd7c-3fa692590c60\" class=\"colab-df-container\">\n",
              "    <div>\n",
              "<style scoped>\n",
              "    .dataframe tbody tr th:only-of-type {\n",
              "        vertical-align: middle;\n",
              "    }\n",
              "\n",
              "    .dataframe tbody tr th {\n",
              "        vertical-align: top;\n",
              "    }\n",
              "\n",
              "    .dataframe thead th {\n",
              "        text-align: right;\n",
              "    }\n",
              "</style>\n",
              "<table border=\"1\" class=\"dataframe\">\n",
              "  <thead>\n",
              "    <tr style=\"text-align: right;\">\n",
              "      <th></th>\n",
              "      <th>text</th>\n",
              "      <th>label</th>\n",
              "    </tr>\n",
              "  </thead>\n",
              "  <tbody>\n",
              "    <tr>\n",
              "      <th>50</th>\n",
              "      <td>Member: Hi, I'm calling about my recent copay ...</td>\n",
              "      <td>0</td>\n",
              "    </tr>\n",
              "    <tr>\n",
              "      <th>51</th>\n",
              "      <td>Member: Hi, I'm calling about my recent bill f...</td>\n",
              "      <td>0</td>\n",
              "    </tr>\n",
              "    <tr>\n",
              "      <th>52</th>\n",
              "      <td>Member: Hi, I'm calling to schedule an appoint...</td>\n",
              "      <td>1</td>\n",
              "    </tr>\n",
              "    <tr>\n",
              "      <th>53</th>\n",
              "      <td>Member: Hi, I'm having trouble registering and...</td>\n",
              "      <td>0</td>\n",
              "    </tr>\n",
              "    <tr>\n",
              "      <th>54</th>\n",
              "      <td>Member: Hi, I'm calling to get a case pre-auth...</td>\n",
              "      <td>1</td>\n",
              "    </tr>\n",
              "    <tr>\n",
              "      <th>55</th>\n",
              "      <td>Member: Hi, I'm calling about a denied claim I...</td>\n",
              "      <td>0</td>\n",
              "    </tr>\n",
              "    <tr>\n",
              "      <th>56</th>\n",
              "      <td>Member: Hi, I'm calling to get a case pre-auth...</td>\n",
              "      <td>2</td>\n",
              "    </tr>\n",
              "    <tr>\n",
              "      <th>57</th>\n",
              "      <td>Member: Hi, I'm calling about my recent doctor...</td>\n",
              "      <td>1</td>\n",
              "    </tr>\n",
              "    <tr>\n",
              "      <th>58</th>\n",
              "      <td>Member: Hi, I'm calling to request a pre-autho...</td>\n",
              "      <td>1</td>\n",
              "    </tr>\n",
              "    <tr>\n",
              "      <th>59</th>\n",
              "      <td>Member: Hi, I'm calling to get a case pre-auth...</td>\n",
              "      <td>1</td>\n",
              "    </tr>\n",
              "    <tr>\n",
              "      <th>60</th>\n",
              "      <td>Member: Hi, I'm calling about a denied claim I...</td>\n",
              "      <td>1</td>\n",
              "    </tr>\n",
              "  </tbody>\n",
              "</table>\n",
              "</div>\n",
              "    <div class=\"colab-df-buttons\">\n",
              "\n",
              "  <div class=\"colab-df-container\">\n",
              "    <button class=\"colab-df-convert\" onclick=\"convertToInteractive('df-d1508b10-78db-4f46-bd7c-3fa692590c60')\"\n",
              "            title=\"Convert this dataframe to an interactive table.\"\n",
              "            style=\"display:none;\">\n",
              "\n",
              "  <svg xmlns=\"http://www.w3.org/2000/svg\" height=\"24px\" viewBox=\"0 -960 960 960\">\n",
              "    <path d=\"M120-120v-720h720v720H120Zm60-500h600v-160H180v160Zm220 220h160v-160H400v160Zm0 220h160v-160H400v160ZM180-400h160v-160H180v160Zm440 0h160v-160H620v160ZM180-180h160v-160H180v160Zm440 0h160v-160H620v160Z\"/>\n",
              "  </svg>\n",
              "    </button>\n",
              "\n",
              "  <style>\n",
              "    .colab-df-container {\n",
              "      display:flex;\n",
              "      gap: 12px;\n",
              "    }\n",
              "\n",
              "    .colab-df-convert {\n",
              "      background-color: #E8F0FE;\n",
              "      border: none;\n",
              "      border-radius: 50%;\n",
              "      cursor: pointer;\n",
              "      display: none;\n",
              "      fill: #1967D2;\n",
              "      height: 32px;\n",
              "      padding: 0 0 0 0;\n",
              "      width: 32px;\n",
              "    }\n",
              "\n",
              "    .colab-df-convert:hover {\n",
              "      background-color: #E2EBFA;\n",
              "      box-shadow: 0px 1px 2px rgba(60, 64, 67, 0.3), 0px 1px 3px 1px rgba(60, 64, 67, 0.15);\n",
              "      fill: #174EA6;\n",
              "    }\n",
              "\n",
              "    .colab-df-buttons div {\n",
              "      margin-bottom: 4px;\n",
              "    }\n",
              "\n",
              "    [theme=dark] .colab-df-convert {\n",
              "      background-color: #3B4455;\n",
              "      fill: #D2E3FC;\n",
              "    }\n",
              "\n",
              "    [theme=dark] .colab-df-convert:hover {\n",
              "      background-color: #434B5C;\n",
              "      box-shadow: 0px 1px 3px 1px rgba(0, 0, 0, 0.15);\n",
              "      filter: drop-shadow(0px 1px 2px rgba(0, 0, 0, 0.3));\n",
              "      fill: #FFFFFF;\n",
              "    }\n",
              "  </style>\n",
              "\n",
              "    <script>\n",
              "      const buttonEl =\n",
              "        document.querySelector('#df-d1508b10-78db-4f46-bd7c-3fa692590c60 button.colab-df-convert');\n",
              "      buttonEl.style.display =\n",
              "        google.colab.kernel.accessAllowed ? 'block' : 'none';\n",
              "\n",
              "      async function convertToInteractive(key) {\n",
              "        const element = document.querySelector('#df-d1508b10-78db-4f46-bd7c-3fa692590c60');\n",
              "        const dataTable =\n",
              "          await google.colab.kernel.invokeFunction('convertToInteractive',\n",
              "                                                    [key], {});\n",
              "        if (!dataTable) return;\n",
              "\n",
              "        const docLinkHtml = 'Like what you see? Visit the ' +\n",
              "          '<a target=\"_blank\" href=https://colab.research.google.com/notebooks/data_table.ipynb>data table notebook</a>'\n",
              "          + ' to learn more about interactive tables.';\n",
              "        element.innerHTML = '';\n",
              "        dataTable['output_type'] = 'display_data';\n",
              "        await google.colab.output.renderOutput(dataTable, element);\n",
              "        const docLink = document.createElement('div');\n",
              "        docLink.innerHTML = docLinkHtml;\n",
              "        element.appendChild(docLink);\n",
              "      }\n",
              "    </script>\n",
              "  </div>\n",
              "\n",
              "\n",
              "<div id=\"df-80e2b895-ddaa-45d9-b52e-4d1f04e59b82\">\n",
              "  <button class=\"colab-df-quickchart\" onclick=\"quickchart('df-80e2b895-ddaa-45d9-b52e-4d1f04e59b82')\"\n",
              "            title=\"Suggest charts\"\n",
              "            style=\"display:none;\">\n",
              "\n",
              "<svg xmlns=\"http://www.w3.org/2000/svg\" height=\"24px\"viewBox=\"0 0 24 24\"\n",
              "     width=\"24px\">\n",
              "    <g>\n",
              "        <path d=\"M19 3H5c-1.1 0-2 .9-2 2v14c0 1.1.9 2 2 2h14c1.1 0 2-.9 2-2V5c0-1.1-.9-2-2-2zM9 17H7v-7h2v7zm4 0h-2V7h2v10zm4 0h-2v-4h2v4z\"/>\n",
              "    </g>\n",
              "</svg>\n",
              "  </button>\n",
              "\n",
              "<style>\n",
              "  .colab-df-quickchart {\n",
              "      --bg-color: #E8F0FE;\n",
              "      --fill-color: #1967D2;\n",
              "      --hover-bg-color: #E2EBFA;\n",
              "      --hover-fill-color: #174EA6;\n",
              "      --disabled-fill-color: #AAA;\n",
              "      --disabled-bg-color: #DDD;\n",
              "  }\n",
              "\n",
              "  [theme=dark] .colab-df-quickchart {\n",
              "      --bg-color: #3B4455;\n",
              "      --fill-color: #D2E3FC;\n",
              "      --hover-bg-color: #434B5C;\n",
              "      --hover-fill-color: #FFFFFF;\n",
              "      --disabled-bg-color: #3B4455;\n",
              "      --disabled-fill-color: #666;\n",
              "  }\n",
              "\n",
              "  .colab-df-quickchart {\n",
              "    background-color: var(--bg-color);\n",
              "    border: none;\n",
              "    border-radius: 50%;\n",
              "    cursor: pointer;\n",
              "    display: none;\n",
              "    fill: var(--fill-color);\n",
              "    height: 32px;\n",
              "    padding: 0;\n",
              "    width: 32px;\n",
              "  }\n",
              "\n",
              "  .colab-df-quickchart:hover {\n",
              "    background-color: var(--hover-bg-color);\n",
              "    box-shadow: 0 1px 2px rgba(60, 64, 67, 0.3), 0 1px 3px 1px rgba(60, 64, 67, 0.15);\n",
              "    fill: var(--button-hover-fill-color);\n",
              "  }\n",
              "\n",
              "  .colab-df-quickchart-complete:disabled,\n",
              "  .colab-df-quickchart-complete:disabled:hover {\n",
              "    background-color: var(--disabled-bg-color);\n",
              "    fill: var(--disabled-fill-color);\n",
              "    box-shadow: none;\n",
              "  }\n",
              "\n",
              "  .colab-df-spinner {\n",
              "    border: 2px solid var(--fill-color);\n",
              "    border-color: transparent;\n",
              "    border-bottom-color: var(--fill-color);\n",
              "    animation:\n",
              "      spin 1s steps(1) infinite;\n",
              "  }\n",
              "\n",
              "  @keyframes spin {\n",
              "    0% {\n",
              "      border-color: transparent;\n",
              "      border-bottom-color: var(--fill-color);\n",
              "      border-left-color: var(--fill-color);\n",
              "    }\n",
              "    20% {\n",
              "      border-color: transparent;\n",
              "      border-left-color: var(--fill-color);\n",
              "      border-top-color: var(--fill-color);\n",
              "    }\n",
              "    30% {\n",
              "      border-color: transparent;\n",
              "      border-left-color: var(--fill-color);\n",
              "      border-top-color: var(--fill-color);\n",
              "      border-right-color: var(--fill-color);\n",
              "    }\n",
              "    40% {\n",
              "      border-color: transparent;\n",
              "      border-right-color: var(--fill-color);\n",
              "      border-top-color: var(--fill-color);\n",
              "    }\n",
              "    60% {\n",
              "      border-color: transparent;\n",
              "      border-right-color: var(--fill-color);\n",
              "    }\n",
              "    80% {\n",
              "      border-color: transparent;\n",
              "      border-right-color: var(--fill-color);\n",
              "      border-bottom-color: var(--fill-color);\n",
              "    }\n",
              "    90% {\n",
              "      border-color: transparent;\n",
              "      border-bottom-color: var(--fill-color);\n",
              "    }\n",
              "  }\n",
              "</style>\n",
              "\n",
              "  <script>\n",
              "    async function quickchart(key) {\n",
              "      const quickchartButtonEl =\n",
              "        document.querySelector('#' + key + ' button');\n",
              "      quickchartButtonEl.disabled = true;  // To prevent multiple clicks.\n",
              "      quickchartButtonEl.classList.add('colab-df-spinner');\n",
              "      try {\n",
              "        const charts = await google.colab.kernel.invokeFunction(\n",
              "            'suggestCharts', [key], {});\n",
              "      } catch (error) {\n",
              "        console.error('Error during call to suggestCharts:', error);\n",
              "      }\n",
              "      quickchartButtonEl.classList.remove('colab-df-spinner');\n",
              "      quickchartButtonEl.classList.add('colab-df-quickchart-complete');\n",
              "    }\n",
              "    (() => {\n",
              "      let quickchartButtonEl =\n",
              "        document.querySelector('#df-80e2b895-ddaa-45d9-b52e-4d1f04e59b82 button');\n",
              "      quickchartButtonEl.style.display =\n",
              "        google.colab.kernel.accessAllowed ? 'block' : 'none';\n",
              "    })();\n",
              "  </script>\n",
              "</div>\n",
              "\n",
              "    </div>\n",
              "  </div>\n"
            ],
            "application/vnd.google.colaboratory.intrinsic+json": {
              "type": "dataframe",
              "summary": "{\n  \"name\": \"customer_text_df\",\n  \"rows\": 11,\n  \"fields\": [\n    {\n      \"column\": \"text\",\n      \"properties\": {\n        \"dtype\": \"string\",\n        \"num_unique_values\": 11,\n        \"samples\": [\n          \"Member: Hi, I'm calling about a denied claim I received recently. My name is Emily Wilson and my member ID is MEM123456. Member: Yes, of course. I had a medical procedure done and I submitted a claim for it, but it was denied because the policy doesn't cover that service. However, I had switched to a new policy a few months ago and I'm pretty sure that this new policy does cover that service. Member: Yes, my new policy is effective from January 1st of this year. Member: That makes sense, I guess. So what can be done to resolve this? Member: Okay, that sounds great. How long will that take? (Member holds for 2 minutes) Member: That's great, thank you so much for your help! Member: No, that's all. Thank you again.  Member: You too, bye.\",\n          \"Member: Hi, I'm calling about my recent copay for a service I received. I was charged $50, but I thought it was supposed to be $20 or maybe even no copay at all. Customer Support: I'd be happy to help you with that! Can you please provide me with your member ID so I can look into this further? Member: It's MEM123456. Member: It was on January 10th, and it was for a routine check-up with my primary care physician. Member: Okay, that sounds good. I appreciate you looking into it. Member: That makes sense. So, what can be done to fix this? Member: Okay, that sounds good. How long will it take to resolve this? Member: Alright, that sounds good. Thank you for your help. Member: Sounds good, thank you. Member: No, that's all. Thanks again.\",\n          \"Member: Hi, I'm calling to get a case pre-authorized. My name is Emily Wilson, and my member ID is MEM456789. Member: It's 02/12/1985. Member: I need to get approval for an MRI scan for my knee. I've been experiencing some pain and my doctor recommends I get an MRI to determine the cause. Member: My doctor's name is Dr. Smith, and the MRI is scheduled at Mercy Hospital. Member: Okay, sure. Member: My address is 123 Main St, Anytown, USA 12345. Member: Okay, how long will that take? Member: Okay, thank you. Is there anything else I need to do in the meantime? Member: Okay, thank you. Member: You too, bye.\"\n        ],\n        \"semantic_type\": \"\",\n        \"description\": \"\"\n      }\n    },\n    {\n      \"column\": \"label\",\n      \"properties\": {\n        \"dtype\": \"int32\",\n        \"num_unique_values\": 3,\n        \"samples\": [\n          0,\n          1,\n          2\n        ],\n        \"semantic_type\": \"\",\n        \"description\": \"\"\n      }\n    }\n  ]\n}"
            }
          },
          "metadata": {},
          "execution_count": 189
        }
      ]
    },
    {
      "cell_type": "markdown",
      "source": [
        "# **Select some text message to identify the physical meaning of the label **"
      ],
      "metadata": {
        "id": "zCYP0Zij3tNH"
      }
    },
    {
      "cell_type": "code",
      "source": [
        "# customer_text_df.loc[20:25]\n",
        "# customer_list[0]     #'0: resolved'\n",
        "# customer_list[7]   1: Follow up\n",
        "# customer_list[5]     2: Follow\n",
        "# customer_list[3]       #2: Not sure\n",
        "# customer_list[9]      0: resolved\n",
        "# customer_list[26]   1: Follow up\n",
        "# customer_list[22]     0 : resolved\n",
        "# customer_list[23]     1: Follow up\n",
        "# customer_list[21]     2: resolved\n",
        "# customer_list[56]      2: Follow up"
      ],
      "metadata": {
        "id": "y4flk9e9CY7y"
      },
      "execution_count": 201,
      "outputs": []
    },
    {
      "cell_type": "code",
      "source": [
        "# Attach label meaning to dataframe and display top 5 text message\n",
        "label_dic = {0 : \"Resolved\", 1: \"Follow up\", 2: \"Mixed\"}\n",
        "customer_text_df['labelMeaning'] = customer_text_df['label'].map(label_dic)\n",
        "customer_text_df.head()"
      ],
      "metadata": {
        "colab": {
          "base_uri": "https://localhost:8080/",
          "height": 206
        },
        "id": "32P4bTVMixym",
        "outputId": "4fc15db3-60ac-4d1d-f010-d59a700efad4"
      },
      "execution_count": 192,
      "outputs": [
        {
          "output_type": "execute_result",
          "data": {
            "text/plain": [
              "                                                text  label labelMeaning\n",
              "0  Member: Hi, I'm calling to get a case pre-auth...      0     Resolved\n",
              "1  Member: Hi, I'm calling about a denied claim I...      1    Follow up\n",
              "2  Member: Hi, I'm calling about my recent doctor...      0     Resolved\n",
              "3  Member: Hi, I'm calling about my recent visit ...      2        Mixed\n",
              "4  Member: Hi, I'd like to schedule an appointmen...      1    Follow up"
            ],
            "text/html": [
              "\n",
              "  <div id=\"df-038ccc89-64eb-4c91-abd1-0f55f5877a5e\" class=\"colab-df-container\">\n",
              "    <div>\n",
              "<style scoped>\n",
              "    .dataframe tbody tr th:only-of-type {\n",
              "        vertical-align: middle;\n",
              "    }\n",
              "\n",
              "    .dataframe tbody tr th {\n",
              "        vertical-align: top;\n",
              "    }\n",
              "\n",
              "    .dataframe thead th {\n",
              "        text-align: right;\n",
              "    }\n",
              "</style>\n",
              "<table border=\"1\" class=\"dataframe\">\n",
              "  <thead>\n",
              "    <tr style=\"text-align: right;\">\n",
              "      <th></th>\n",
              "      <th>text</th>\n",
              "      <th>label</th>\n",
              "      <th>labelMeaning</th>\n",
              "    </tr>\n",
              "  </thead>\n",
              "  <tbody>\n",
              "    <tr>\n",
              "      <th>0</th>\n",
              "      <td>Member: Hi, I'm calling to get a case pre-auth...</td>\n",
              "      <td>0</td>\n",
              "      <td>Resolved</td>\n",
              "    </tr>\n",
              "    <tr>\n",
              "      <th>1</th>\n",
              "      <td>Member: Hi, I'm calling about a denied claim I...</td>\n",
              "      <td>1</td>\n",
              "      <td>Follow up</td>\n",
              "    </tr>\n",
              "    <tr>\n",
              "      <th>2</th>\n",
              "      <td>Member: Hi, I'm calling about my recent doctor...</td>\n",
              "      <td>0</td>\n",
              "      <td>Resolved</td>\n",
              "    </tr>\n",
              "    <tr>\n",
              "      <th>3</th>\n",
              "      <td>Member: Hi, I'm calling about my recent visit ...</td>\n",
              "      <td>2</td>\n",
              "      <td>Mixed</td>\n",
              "    </tr>\n",
              "    <tr>\n",
              "      <th>4</th>\n",
              "      <td>Member: Hi, I'd like to schedule an appointmen...</td>\n",
              "      <td>1</td>\n",
              "      <td>Follow up</td>\n",
              "    </tr>\n",
              "  </tbody>\n",
              "</table>\n",
              "</div>\n",
              "    <div class=\"colab-df-buttons\">\n",
              "\n",
              "  <div class=\"colab-df-container\">\n",
              "    <button class=\"colab-df-convert\" onclick=\"convertToInteractive('df-038ccc89-64eb-4c91-abd1-0f55f5877a5e')\"\n",
              "            title=\"Convert this dataframe to an interactive table.\"\n",
              "            style=\"display:none;\">\n",
              "\n",
              "  <svg xmlns=\"http://www.w3.org/2000/svg\" height=\"24px\" viewBox=\"0 -960 960 960\">\n",
              "    <path d=\"M120-120v-720h720v720H120Zm60-500h600v-160H180v160Zm220 220h160v-160H400v160Zm0 220h160v-160H400v160ZM180-400h160v-160H180v160Zm440 0h160v-160H620v160ZM180-180h160v-160H180v160Zm440 0h160v-160H620v160Z\"/>\n",
              "  </svg>\n",
              "    </button>\n",
              "\n",
              "  <style>\n",
              "    .colab-df-container {\n",
              "      display:flex;\n",
              "      gap: 12px;\n",
              "    }\n",
              "\n",
              "    .colab-df-convert {\n",
              "      background-color: #E8F0FE;\n",
              "      border: none;\n",
              "      border-radius: 50%;\n",
              "      cursor: pointer;\n",
              "      display: none;\n",
              "      fill: #1967D2;\n",
              "      height: 32px;\n",
              "      padding: 0 0 0 0;\n",
              "      width: 32px;\n",
              "    }\n",
              "\n",
              "    .colab-df-convert:hover {\n",
              "      background-color: #E2EBFA;\n",
              "      box-shadow: 0px 1px 2px rgba(60, 64, 67, 0.3), 0px 1px 3px 1px rgba(60, 64, 67, 0.15);\n",
              "      fill: #174EA6;\n",
              "    }\n",
              "\n",
              "    .colab-df-buttons div {\n",
              "      margin-bottom: 4px;\n",
              "    }\n",
              "\n",
              "    [theme=dark] .colab-df-convert {\n",
              "      background-color: #3B4455;\n",
              "      fill: #D2E3FC;\n",
              "    }\n",
              "\n",
              "    [theme=dark] .colab-df-convert:hover {\n",
              "      background-color: #434B5C;\n",
              "      box-shadow: 0px 1px 3px 1px rgba(0, 0, 0, 0.15);\n",
              "      filter: drop-shadow(0px 1px 2px rgba(0, 0, 0, 0.3));\n",
              "      fill: #FFFFFF;\n",
              "    }\n",
              "  </style>\n",
              "\n",
              "    <script>\n",
              "      const buttonEl =\n",
              "        document.querySelector('#df-038ccc89-64eb-4c91-abd1-0f55f5877a5e button.colab-df-convert');\n",
              "      buttonEl.style.display =\n",
              "        google.colab.kernel.accessAllowed ? 'block' : 'none';\n",
              "\n",
              "      async function convertToInteractive(key) {\n",
              "        const element = document.querySelector('#df-038ccc89-64eb-4c91-abd1-0f55f5877a5e');\n",
              "        const dataTable =\n",
              "          await google.colab.kernel.invokeFunction('convertToInteractive',\n",
              "                                                    [key], {});\n",
              "        if (!dataTable) return;\n",
              "\n",
              "        const docLinkHtml = 'Like what you see? Visit the ' +\n",
              "          '<a target=\"_blank\" href=https://colab.research.google.com/notebooks/data_table.ipynb>data table notebook</a>'\n",
              "          + ' to learn more about interactive tables.';\n",
              "        element.innerHTML = '';\n",
              "        dataTable['output_type'] = 'display_data';\n",
              "        await google.colab.output.renderOutput(dataTable, element);\n",
              "        const docLink = document.createElement('div');\n",
              "        docLink.innerHTML = docLinkHtml;\n",
              "        element.appendChild(docLink);\n",
              "      }\n",
              "    </script>\n",
              "  </div>\n",
              "\n",
              "\n",
              "<div id=\"df-72fc9199-4d67-46b7-9261-b1624da453c9\">\n",
              "  <button class=\"colab-df-quickchart\" onclick=\"quickchart('df-72fc9199-4d67-46b7-9261-b1624da453c9')\"\n",
              "            title=\"Suggest charts\"\n",
              "            style=\"display:none;\">\n",
              "\n",
              "<svg xmlns=\"http://www.w3.org/2000/svg\" height=\"24px\"viewBox=\"0 0 24 24\"\n",
              "     width=\"24px\">\n",
              "    <g>\n",
              "        <path d=\"M19 3H5c-1.1 0-2 .9-2 2v14c0 1.1.9 2 2 2h14c1.1 0 2-.9 2-2V5c0-1.1-.9-2-2-2zM9 17H7v-7h2v7zm4 0h-2V7h2v10zm4 0h-2v-4h2v4z\"/>\n",
              "    </g>\n",
              "</svg>\n",
              "  </button>\n",
              "\n",
              "<style>\n",
              "  .colab-df-quickchart {\n",
              "      --bg-color: #E8F0FE;\n",
              "      --fill-color: #1967D2;\n",
              "      --hover-bg-color: #E2EBFA;\n",
              "      --hover-fill-color: #174EA6;\n",
              "      --disabled-fill-color: #AAA;\n",
              "      --disabled-bg-color: #DDD;\n",
              "  }\n",
              "\n",
              "  [theme=dark] .colab-df-quickchart {\n",
              "      --bg-color: #3B4455;\n",
              "      --fill-color: #D2E3FC;\n",
              "      --hover-bg-color: #434B5C;\n",
              "      --hover-fill-color: #FFFFFF;\n",
              "      --disabled-bg-color: #3B4455;\n",
              "      --disabled-fill-color: #666;\n",
              "  }\n",
              "\n",
              "  .colab-df-quickchart {\n",
              "    background-color: var(--bg-color);\n",
              "    border: none;\n",
              "    border-radius: 50%;\n",
              "    cursor: pointer;\n",
              "    display: none;\n",
              "    fill: var(--fill-color);\n",
              "    height: 32px;\n",
              "    padding: 0;\n",
              "    width: 32px;\n",
              "  }\n",
              "\n",
              "  .colab-df-quickchart:hover {\n",
              "    background-color: var(--hover-bg-color);\n",
              "    box-shadow: 0 1px 2px rgba(60, 64, 67, 0.3), 0 1px 3px 1px rgba(60, 64, 67, 0.15);\n",
              "    fill: var(--button-hover-fill-color);\n",
              "  }\n",
              "\n",
              "  .colab-df-quickchart-complete:disabled,\n",
              "  .colab-df-quickchart-complete:disabled:hover {\n",
              "    background-color: var(--disabled-bg-color);\n",
              "    fill: var(--disabled-fill-color);\n",
              "    box-shadow: none;\n",
              "  }\n",
              "\n",
              "  .colab-df-spinner {\n",
              "    border: 2px solid var(--fill-color);\n",
              "    border-color: transparent;\n",
              "    border-bottom-color: var(--fill-color);\n",
              "    animation:\n",
              "      spin 1s steps(1) infinite;\n",
              "  }\n",
              "\n",
              "  @keyframes spin {\n",
              "    0% {\n",
              "      border-color: transparent;\n",
              "      border-bottom-color: var(--fill-color);\n",
              "      border-left-color: var(--fill-color);\n",
              "    }\n",
              "    20% {\n",
              "      border-color: transparent;\n",
              "      border-left-color: var(--fill-color);\n",
              "      border-top-color: var(--fill-color);\n",
              "    }\n",
              "    30% {\n",
              "      border-color: transparent;\n",
              "      border-left-color: var(--fill-color);\n",
              "      border-top-color: var(--fill-color);\n",
              "      border-right-color: var(--fill-color);\n",
              "    }\n",
              "    40% {\n",
              "      border-color: transparent;\n",
              "      border-right-color: var(--fill-color);\n",
              "      border-top-color: var(--fill-color);\n",
              "    }\n",
              "    60% {\n",
              "      border-color: transparent;\n",
              "      border-right-color: var(--fill-color);\n",
              "    }\n",
              "    80% {\n",
              "      border-color: transparent;\n",
              "      border-right-color: var(--fill-color);\n",
              "      border-bottom-color: var(--fill-color);\n",
              "    }\n",
              "    90% {\n",
              "      border-color: transparent;\n",
              "      border-bottom-color: var(--fill-color);\n",
              "    }\n",
              "  }\n",
              "</style>\n",
              "\n",
              "  <script>\n",
              "    async function quickchart(key) {\n",
              "      const quickchartButtonEl =\n",
              "        document.querySelector('#' + key + ' button');\n",
              "      quickchartButtonEl.disabled = true;  // To prevent multiple clicks.\n",
              "      quickchartButtonEl.classList.add('colab-df-spinner');\n",
              "      try {\n",
              "        const charts = await google.colab.kernel.invokeFunction(\n",
              "            'suggestCharts', [key], {});\n",
              "      } catch (error) {\n",
              "        console.error('Error during call to suggestCharts:', error);\n",
              "      }\n",
              "      quickchartButtonEl.classList.remove('colab-df-spinner');\n",
              "      quickchartButtonEl.classList.add('colab-df-quickchart-complete');\n",
              "    }\n",
              "    (() => {\n",
              "      let quickchartButtonEl =\n",
              "        document.querySelector('#df-72fc9199-4d67-46b7-9261-b1624da453c9 button');\n",
              "      quickchartButtonEl.style.display =\n",
              "        google.colab.kernel.accessAllowed ? 'block' : 'none';\n",
              "    })();\n",
              "  </script>\n",
              "</div>\n",
              "\n",
              "    </div>\n",
              "  </div>\n"
            ],
            "application/vnd.google.colaboratory.intrinsic+json": {
              "type": "dataframe",
              "variable_name": "customer_text_df",
              "summary": "{\n  \"name\": \"customer_text_df\",\n  \"rows\": 200,\n  \"fields\": [\n    {\n      \"column\": \"text\",\n      \"properties\": {\n        \"dtype\": \"string\",\n        \"num_unique_values\": 200,\n        \"samples\": [\n          \"Member: Hi, I'm having some trouble registering and logging in to my online service account. My member ID is MEM123456.  Member: When I try to log in, it says my username and password are incorrect. I've tried resetting my password, but it still doesn't work. Member: My username is jsmith123 and my password is *****. I've also tried using my email address as my username, but that doesn't work either. Member: Sure, no problem. Member: Let me check. Ah, yes, I see the problem. I used a different email address when I signed up for the account. Member: Okay, I've done that. What's the next step? Member: Okay, let me try that. (pause) Ah, yes! I'm in! Thank you so much for your help! Member: No, that's all. Thank you again for your help. You've been very patient and helpful. Member: You too, thank you!\",\n          \"Member: Hi, I'm calling to request a case pre-authorization for a procedure I need to undergo. My name is Emily Wilson, and my member ID is MEM123456. Member: My date of birth is March 12, 1985, and my primary care physician is Dr. Rachel Kim. Member: The CPT code is 76700, and the procedure is scheduled for April 15th. Member: Sure, thank you. Member: Let me check... (pause) Yes, my current deductible balance is $500. Member: That sounds great, thank you so much for your help! Member: No, that's all. Thank you again for your help. Member: Thank you, bye. Member: No, that's all. Thank you again for your help. Member: Thank you, bye.\",\n          \"Member: Hi, I'm calling about a claim that was denied. My member ID is MEM123456. I'm very frustrated because I was told that the policy doesn't cover the service, but I recently switched policies and the new one should cover it. Member: It's Ms. Johnson. Member: My date of birth is March 12, 1985, and the denied service was for a physical therapy session on January 10th. Member: (sighs) Okay... Member: (angrily) That's unacceptable. I switched policies over a month ago. How could this not be updated? Member: (sighs) Fine... Member: (frustrated) A few days? That's not acceptable. I need this resolved now. Member: (angrily) I expect a call back within the next 24 hours with a resolution. If not, I will be forced to take my business elsewhere. Member: (firmly) See that you do. Member: (angrily) No, that's all. Member: (hangs up the phone)\"\n        ],\n        \"semantic_type\": \"\",\n        \"description\": \"\"\n      }\n    },\n    {\n      \"column\": \"label\",\n      \"properties\": {\n        \"dtype\": \"int32\",\n        \"num_unique_values\": 3,\n        \"samples\": [\n          0,\n          1,\n          2\n        ],\n        \"semantic_type\": \"\",\n        \"description\": \"\"\n      }\n    },\n    {\n      \"column\": \"labelMeaning\",\n      \"properties\": {\n        \"dtype\": \"category\",\n        \"num_unique_values\": 3,\n        \"samples\": [\n          \"Resolved\",\n          \"Follow up\",\n          \"Mixed\"\n        ],\n        \"semantic_type\": \"\",\n        \"description\": \"\"\n      }\n    }\n  ]\n}"
            }
          },
          "metadata": {},
          "execution_count": 192
        }
      ]
    },
    {
      "cell_type": "code",
      "source": [
        "# Show number of test message in each label\n",
        "from matplotlib import pyplot as plt\n",
        "customer_text_df['label'].plot(kind='hist', bins=3, title='Number of Text Message in Each Label')\n",
        "plt.xlabel('Label')\n",
        "plt.ylabel('Number of Text Message')\n",
        "plt.show()\n",
        "# plt.gca().spines[['top', 'right',]].set_visible(False)"
      ],
      "metadata": {
        "colab": {
          "base_uri": "https://localhost:8080/",
          "height": 472
        },
        "id": "kYflm1u44hkn",
        "outputId": "22d8ea68-1ed4-4420-f04c-e09629ac3c36"
      },
      "execution_count": 208,
      "outputs": [
        {
          "output_type": "display_data",
          "data": {
            "text/plain": [
              "<Figure size 640x480 with 1 Axes>"
            ],
            "image/png": "[encoded data removed]"
          },
          "metadata": {}
        }
      ]
    },
    {
      "cell_type": "markdown",
      "source": [
        "# Accuracy Check\n",
        "\n",
        "PCA transformation to see the label identified by k-means.\n",
        "From PCA variance ratio, we could see the first two pricenpal components include over 90% information in the embeeding generated from the test message. Here the scatter plot from the first two PCA components colored by the label identified clearly shows the label with the high accuracy because three groups are clearly separated."
      ],
      "metadata": {
        "id": "uQXkqrr75ENA"
      }
    },
    {
      "cell_type": "code",
      "source": [
        "from sklearn.decomposition import PCA\n",
        "\n",
        "pca = PCA(n_components=2)\n",
        "\n",
        "customer_list_embedding_2d_pca = pca.fit_transform(customer_list_embedding_2d)\n",
        "\n",
        "print(f\"PCA Variance Ratio : {pca.explained_variance_ratio_}\\n\")\n",
        "\n",
        "class0 = customer_list_embedding_2d_pca[label == 0]\n",
        "class1 = customer_list_embedding_2d_pca[label == 1]\n",
        "class2 = customer_list_embedding_2d_pca[label == 2]\n",
        "plt.scatter(class0[:, 0], class0[:, 1], c='red', label='Cluster 0')\n",
        "plt.scatter(class1[:, 0], class1[:, 1], c='blue', label='Cluster 1')\n",
        "plt.scatter(class2[:, 0], class2[:, 1], c='green', label='Cluster 2')\n",
        "plt.title('Scatter Plot from First Two PCA')\n",
        "plt.legend()\n",
        "plt.show()\n"
      ],
      "metadata": {
        "colab": {
          "base_uri": "https://localhost:8080/",
          "height": 487
        },
        "id": "j8QlRYGYAeOU",
        "outputId": "62129137-8652-4039-8285-2b73e47bef82"
      },
      "execution_count": 210,
      "outputs": [
        {
          "output_type": "stream",
          "name": "stdout",
          "text": [
            "PCA Variance Ratio : [0.8589899  0.03151062]\n",
            "\n"
          ]
        },
        {
          "output_type": "display_data",
          "data": {
            "text/plain": [
              "<Figure size 640x480 with 1 Axes>"
            ],
            "image/png": "[encoded data removed]"
          },
          "metadata": {}
        }
      ]
    },
    {
      "cell_type": "markdown",
      "source": [
        "# **Scatter Plot from Average Embedding**"
      ],
      "metadata": {
        "id": "Tk9JeMep607-"
      }
    },
    {
      "cell_type": "code",
      "source": [
        "class0 = customer_list_embedding_2d[label == 0]\n",
        "class1 = customer_list_embedding_2d[label == 1]\n",
        "class2 = customer_list_embedding_2d[label == 2]\n",
        "plt.scatter(class0[:, 0], class0[:, 1], c='red', label='Cluster 0')\n",
        "plt.scatter(class1[:, 0], class1[:, 1], c='blue', label='Cluster 1')\n",
        "plt.scatter(class2[:, 0], class2[:, 1], c='green', label='Cluster 2')\n",
        "plt.title('Scatter Plot from Average Embedding')\n",
        "plt.legend()\n",
        "plt.show()"
      ],
      "metadata": {
        "colab": {
          "base_uri": "https://localhost:8080/",
          "height": 452
        },
        "id": "LQ1DthM1a27s",
        "outputId": "2c80eb99-030c-4e9c-ba6c-a1ce3d6aa7e9"
      },
      "execution_count": 204,
      "outputs": [
        {
          "output_type": "display_data",
          "data": {
            "text/plain": [
              "<Figure size 640x480 with 1 Axes>"
            ],
            "image/png": "[encoded data removed]"
          },
          "metadata": {}
        }
      ]
    }
  ]
}